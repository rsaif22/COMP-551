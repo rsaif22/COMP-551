{
 "cells": [
  {
   "cell_type": "code",
   "execution_count": 1,
   "metadata": {},
   "outputs": [],
   "source": [
    "import numpy as np\n",
    "import torch\n",
    "import iris\n",
    "import matplotlib.pyplot as plt\n",
    "from pytorch_neural import nn_decision_tree  # assuming this is adapted for PyTorch as shown earlier\n",
    "%matplotlib inline"
   ]
  },
  {
   "cell_type": "code",
   "execution_count": 2,
   "metadata": {},
   "outputs": [
    {
     "data": {
      "text/plain": [
       "<torch._C.Generator at 0x2727e64fb30>"
      ]
     },
     "execution_count": 2,
     "metadata": {},
     "output_type": "execute_result"
    }
   ],
   "source": [
    "# Set random seeds for reproducibility\n",
    "np.random.seed(1943)\n",
    "torch.manual_seed(1943)"
   ]
  },
  {
   "cell_type": "code",
   "execution_count": 3,
   "metadata": {},
   "outputs": [],
   "source": [
    "# Load data\n",
    "# x = iris.feature[:, 2:4]  # use \"Petal length\" and \"Petal width\" only\n",
    "x = iris.feature\n",
    "y = iris.label\n",
    "d = x.shape[1]\n",
    "x_tensor = torch.tensor(x, dtype=torch.float32)\n",
    "y_tensor = torch.tensor(y, dtype=torch.int64)\n",
    "x_tensor -= x_tensor.mean(dim=0)\n",
    "x_tensor /= x_tensor.std(dim=0)\n",
    "# Decode labels\n",
    "_, y_tensor = y_tensor.max(dim=1)"
   ]
  },
  {
   "cell_type": "code",
   "execution_count": 8,
   "metadata": {},
   "outputs": [],
   "source": [
    "from sklearn.model_selection import train_test_split\n",
    "x_train, x_test, y_train, y_test = train_test_split(x_tensor, y_tensor, test_size=0.33, random_state=1943)"
   ]
  },
  {
   "cell_type": "code",
   "execution_count": 14,
   "metadata": {},
   "outputs": [
    {
     "name": "stdout",
     "output_type": "stream",
     "text": [
      "Epoch [1/20], Loss: 1.0919\n",
      "Epoch [1/20], Loss: 1.0673\n",
      "Epoch [1/20], Loss: 1.0366\n",
      "Epoch [1/20], Loss: 1.0527\n",
      "Epoch [2/20], Loss: 0.9823\n",
      "Epoch [2/20], Loss: 0.9787\n",
      "Epoch [2/20], Loss: 0.9521\n",
      "Epoch [2/20], Loss: 1.0388\n",
      "Epoch [3/20], Loss: 0.9057\n",
      "Epoch [3/20], Loss: 0.8751\n",
      "Epoch [3/20], Loss: 0.8451\n",
      "Epoch [3/20], Loss: 0.9055\n",
      "Epoch [4/20], Loss: 0.8253\n",
      "Epoch [4/20], Loss: 0.7998\n",
      "Epoch [4/20], Loss: 0.7889\n",
      "Epoch [4/20], Loss: 0.7157\n",
      "Epoch [5/20], Loss: 0.7343\n",
      "Epoch [5/20], Loss: 0.8000\n",
      "Epoch [5/20], Loss: 0.7067\n",
      "Epoch [5/20], Loss: 0.9132\n",
      "Epoch [6/20], Loss: 0.6848\n",
      "Epoch [6/20], Loss: 0.7730\n",
      "Epoch [6/20], Loss: 0.7291\n",
      "Epoch [6/20], Loss: 0.6144\n",
      "Epoch [7/20], Loss: 0.7322\n",
      "Epoch [7/20], Loss: 0.7087\n",
      "Epoch [7/20], Loss: 0.6544\n",
      "Epoch [7/20], Loss: 0.7346\n",
      "Epoch [8/20], Loss: 0.7181\n",
      "Epoch [8/20], Loss: 0.6367\n",
      "Epoch [8/20], Loss: 0.6890\n",
      "Epoch [8/20], Loss: 0.6373\n",
      "Epoch [9/20], Loss: 0.6406\n",
      "Epoch [9/20], Loss: 0.6608\n",
      "Epoch [9/20], Loss: 0.7062\n",
      "Epoch [9/20], Loss: 0.6037\n",
      "Epoch [10/20], Loss: 0.6643\n",
      "Epoch [10/20], Loss: 0.6317\n",
      "Epoch [10/20], Loss: 0.6483\n",
      "Epoch [10/20], Loss: 0.7153\n",
      "Epoch [11/20], Loss: 0.6623\n",
      "Epoch [11/20], Loss: 0.6413\n",
      "Epoch [11/20], Loss: 0.6103\n",
      "Epoch [11/20], Loss: 0.5610\n",
      "Epoch [12/20], Loss: 0.5918\n",
      "Epoch [12/20], Loss: 0.6679\n",
      "Epoch [12/20], Loss: 0.6212\n",
      "Epoch [12/20], Loss: 0.6762\n",
      "Epoch [13/20], Loss: 0.5808\n",
      "Epoch [13/20], Loss: 0.6174\n",
      "Epoch [13/20], Loss: 0.6574\n",
      "Epoch [13/20], Loss: 0.5525\n",
      "Epoch [14/20], Loss: 0.6641\n",
      "Epoch [14/20], Loss: 0.5926\n",
      "Epoch [14/20], Loss: 0.5954\n",
      "Epoch [14/20], Loss: 0.5688\n",
      "Epoch [15/20], Loss: 0.5887\n",
      "Epoch [15/20], Loss: 0.5897\n",
      "Epoch [15/20], Loss: 0.6477\n",
      "Epoch [15/20], Loss: 0.5832\n",
      "Epoch [16/20], Loss: 0.6164\n",
      "Epoch [16/20], Loss: 0.5824\n",
      "Epoch [16/20], Loss: 0.5983\n",
      "Epoch [16/20], Loss: 0.5592\n",
      "Epoch [17/20], Loss: 0.5703\n",
      "Epoch [17/20], Loss: 0.6180\n",
      "Epoch [17/20], Loss: 0.6102\n",
      "Epoch [17/20], Loss: 0.5601\n",
      "Epoch [18/20], Loss: 0.6157\n",
      "Epoch [18/20], Loss: 0.5718\n",
      "Epoch [18/20], Loss: 0.5876\n",
      "Epoch [18/20], Loss: 0.6621\n",
      "Epoch [19/20], Loss: 0.6038\n",
      "Epoch [19/20], Loss: 0.6014\n",
      "Epoch [19/20], Loss: 0.5730\n",
      "Epoch [19/20], Loss: 0.5515\n",
      "Epoch [20/20], Loss: 0.5975\n",
      "Epoch [20/20], Loss: 0.5644\n",
      "Epoch [20/20], Loss: 0.6127\n",
      "Epoch [20/20], Loss: 0.5537\n",
      "Accuracy: 94.0\n"
     ]
    }
   ],
   "source": [
    "# Train model\n",
    "from nn_model import NeuralNetwork\n",
    "\n",
    "model = NeuralNetwork(d, 50, 3)\n",
    "model.train()\n",
    "model = model.fit(x_train, y_train, epochs=20, learning_rate=0.005)\n",
    "\n",
    "y_pred = model.predict(x_test)\n",
    "acc = (y_pred == y_test).float().mean()\n",
    "print(f'Accuracy: {acc * 100}')"
   ]
  }
 ],
 "metadata": {
  "kernelspec": {
   "display_name": "Python 3",
   "language": "python",
   "name": "python3"
  },
  "language_info": {
   "codemirror_mode": {
    "name": "ipython",
    "version": 3
   },
   "file_extension": ".py",
   "mimetype": "text/x-python",
   "name": "python",
   "nbconvert_exporter": "python",
   "pygments_lexer": "ipython3",
   "version": "3.10.4"
  }
 },
 "nbformat": 4,
 "nbformat_minor": 2
}
