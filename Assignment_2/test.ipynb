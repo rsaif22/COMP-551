{
 "cells": [
  {
   "cell_type": "code",
   "execution_count": 2,
   "metadata": {},
   "outputs": [
    {
     "name": "stderr",
     "output_type": "stream",
     "text": [
      "c:\\Users\\rsaif\\AppData\\Local\\Programs\\Python\\Python310\\lib\\site-packages\\scipy\\__init__.py:169: UserWarning: A NumPy version >=1.18.5 and <1.26.0 is required for this version of SciPy (detected version 1.26.1\n",
      "  warnings.warn(f\"A NumPy version >={np_minversion} and <{np_maxversion}\"\n"
     ]
    }
   ],
   "source": [
    "from sklearn import datasets\n",
    "import numpy as np\n",
    "dataset = datasets.load_iris()\n",
    "x, y = dataset['data'][:,[1,2]], dataset['target']\n",
    "y =  y == 1\n",
    "# model = MLP(M=32)\n",
    "# optimizer = GradientDescent(learning_rate=0.1, max_iters=20000)\n",
    "# yh = model.fit(x, y, optimizer).predict(x) \n",
    "# x0v = np.linspace(np.min(x[:,0]), np.max(x[:,0]), 200)\n",
    "# x1v = np.linspace(np.min(x[:,1]), np.max(x[:,1]), 200)\n",
    "# x0,x1 = np.meshgrid(x0v, x1v)\n",
    "# x_all = np.vstack((x0.ravel(),x1.ravel())).T\n",
    "# yh_all = model.predict(x_all) > .5\n",
    "# plt.scatter(x[:,0], x[:,1], c=y, marker='o', alpha=1)\n",
    "# plt.scatter(x_all[:,0], x_all[:,1], c=yh_all, marker='.', alpha=.01)\n",
    "# plt.ylabel('sepal length')\n",
    "# plt.xlabel('sepal width')\n",
    "# plt.title('decision boundary of the MLP')\n",
    "# plt.show()"
   ]
  },
  {
   "cell_type": "code",
   "execution_count": 3,
   "metadata": {},
   "outputs": [],
   "source": [
    "from mlp import MLP \n",
    "from node import *\n",
    "\n",
    "mul1 = Multiply()\n",
    "log1 = Logistic()\n",
    "mul2 = Multiply()\n",
    "log_out = LogisticOutput()\n",
    "\n",
    "X_mean = x.mean(axis=0)\n",
    "X_std = x.std(axis = 0)\n",
    "X_norm = (x - X_mean) / X_std\n",
    "mlp_class = MLP(\"logistic\", 1, 32, 2, 1, \"random\")"
   ]
  },
  {
   "cell_type": "code",
   "execution_count": 7,
   "metadata": {},
   "outputs": [
    {
     "data": {
      "text/plain": [
       "array([0.50037093, 0.5003747 , 0.50037386, 0.50037328, 0.50037018,\n",
       "       0.50036592, 0.50037169, 0.50037102, 0.50037546, 0.50037328,\n",
       "       0.50036876, 0.50037036, 0.5003747 , 0.5003767 , 0.50036849,\n",
       "       0.50036348, 0.50036858, 0.50037093, 0.50036667, 0.500368  ,\n",
       "       0.50036969, 0.50036876, 0.50037284, 0.50037044, 0.50036836,\n",
       "       0.50037337, 0.50037036, 0.50037027, 0.50037169, 0.50037186,\n",
       "       0.50037262, 0.50037102, 0.50036574, 0.50036565, 0.50037328,\n",
       "       0.50037452, 0.5003716 , 0.50037018, 0.50037537, 0.50037102,\n",
       "       0.5003716 , 0.50038065, 0.50037386, 0.5003696 , 0.50036534,\n",
       "       0.5003747 , 0.50036734, 0.50037319, 0.50036876, 0.50037244,\n",
       "       0.50035122, 0.50035256, 0.50035064, 0.50036266, 0.5003549 ,\n",
       "       0.50035557, 0.50035047, 0.50036657, 0.50035415, 0.50036032,\n",
       "       0.50036825, 0.50035606, 0.50036341, 0.50035348, 0.50036081,\n",
       "       0.50035398, 0.50035406, 0.50035898, 0.50036008, 0.50036182,\n",
       "       0.50035056, 0.5003589 , 0.50035516, 0.50035423, 0.50035615,\n",
       "       0.50035473, 0.50035357, 0.50035073, 0.50035481, 0.50036373,\n",
       "       0.50036324, 0.50036391, 0.50036032, 0.50035232, 0.50035406,\n",
       "       0.50035105, 0.50035198, 0.50036   , 0.50035673, 0.50036116,\n",
       "       0.50035774, 0.5003534 , 0.5003604 , 0.50036733, 0.50035832,\n",
       "       0.50035606, 0.50035681, 0.50035615, 0.50036782, 0.50035823,\n",
       "       0.50034181, 0.50035232, 0.50034473, 0.50034748, 0.50034539,\n",
       "       0.50034005, 0.50035782, 0.50034281, 0.50034915, 0.50033889,\n",
       "       0.50034856, 0.50035098, 0.5003474 , 0.50035449, 0.50035157,\n",
       "       0.50034723, 0.5003474 , 0.50033338, 0.50034105, 0.50035675,\n",
       "       0.50034456, 0.5003529 , 0.50034089, 0.50035365, 0.50034381,\n",
       "       0.50034256, 0.50035357, 0.5003514 , 0.50034823, 0.50034539,\n",
       "       0.50034489, 0.50033539, 0.50034823, 0.50035157, 0.50034973,\n",
       "       0.50034339, 0.50034372, 0.50034664, 0.50035206, 0.50034731,\n",
       "       0.50034598, 0.50034931, 0.50035232, 0.50034322, 0.50034381,\n",
       "       0.5003494 , 0.50035449, 0.5003494 , 0.50034506, 0.50035006])"
      ]
     },
     "execution_count": 7,
     "metadata": {},
     "output_type": "execute_result"
    }
   ],
   "source": [
    "N, D = x.shape\n",
    "np.random.seed(10)\n",
    "v = np.random.randn(D, 32) * 0.01\n",
    "w = np.random.randn(32) * 0.01\n",
    "w.shape\n",
    "a1 = mul1.forward(x, v)\n",
    "a2 = log1.forward(a1)\n",
    "a3 = mul2.forward(a2, w)\n",
    "a4 = log_out.forward(a3)\n",
    "a4\n",
    "# da4 = log_out.backward(y)\n",
    "# da3, dw3 = mul2.backward(da4)\n",
    "# da2 = log1.backward(da3)\n",
    "# da1, dw1 = mul1.backward(da2)"
   ]
  },
  {
   "cell_type": "code",
   "execution_count": 3,
   "metadata": {},
   "outputs": [
    {
     "name": "stderr",
     "output_type": "stream",
     "text": [
      "c:\\Users\\rsaif\\OneDrive - McGill University\\COMP-551\\COMP-551\\Assignment_2\\node.py:80: RuntimeWarning: overflow encountered in exp\n",
      "  self.output = 1 / (1 + np.exp(-input))\n"
     ]
    },
    {
     "name": "stdout",
     "output_type": "stream",
     "text": [
      "Finished\n"
     ]
    }
   ],
   "source": [
    "mlp_class.fit(X_norm, y, learning_rate=0.1, max_iters=1e4)"
   ]
  },
  {
   "cell_type": "code",
   "execution_count": 12,
   "metadata": {},
   "outputs": [
    {
     "ename": "ValueError",
     "evalue": "operands could not be broadcast together with shapes (22500,32) (150,32) ",
     "output_type": "error",
     "traceback": [
      "\u001b[1;31m---------------------------------------------------------------------------\u001b[0m",
      "\u001b[1;31mValueError\u001b[0m                                Traceback (most recent call last)",
      "\u001b[1;32mc:\\Users\\rsaif\\OneDrive - McGill University\\COMP-551\\COMP-551\\Assignment_2\\test.ipynb Cell 5\u001b[0m line \u001b[0;36m2\n\u001b[0;32m      <a href='vscode-notebook-cell:/c%3A/Users/rsaif/OneDrive%20-%20McGill%20University/COMP-551/COMP-551/Assignment_2/test.ipynb#W4sZmlsZQ%3D%3D?line=0'>1</a>\u001b[0m res \u001b[39m=\u001b[39m mlp_class\u001b[39m.\u001b[39mforward(x)\n\u001b[1;32m----> <a href='vscode-notebook-cell:/c%3A/Users/rsaif/OneDrive%20-%20McGill%20University/COMP-551/COMP-551/Assignment_2/test.ipynb#W4sZmlsZQ%3D%3D?line=1'>2</a>\u001b[0m back \u001b[39m=\u001b[39m mlp_class\u001b[39m.\u001b[39;49mcompute_gradients(y)\n\u001b[0;32m      <a href='vscode-notebook-cell:/c%3A/Users/rsaif/OneDrive%20-%20McGill%20University/COMP-551/COMP-551/Assignment_2/test.ipynb#W4sZmlsZQ%3D%3D?line=2'>3</a>\u001b[0m back\n",
      "File \u001b[1;32mc:\\Users\\rsaif\\OneDrive - McGill University\\COMP-551\\COMP-551\\Assignment_2\\mlp.py:101\u001b[0m, in \u001b[0;36mcompute_gradients\u001b[1;34m(self, true_y)\u001b[0m\n\u001b[0;32m     99\u001b[0m         d_out, weight_grad = node.backward(d_out)\n\u001b[0;32m    100\u001b[0m         weight_grads.append(weight_grad)\n\u001b[1;32m--> 101\u001b[0m     else:\n\u001b[0;32m    102\u001b[0m         d_out = node.backward(d_out)\n\u001b[0;32m    103\u001b[0m weight_grads.reverse() # Flip to get right order\n",
      "File \u001b[1;32mc:\\Users\\rsaif\\OneDrive - McGill University\\COMP-551\\COMP-551\\Assignment_2\\node.py:97\u001b[0m, in \u001b[0;36mLogistic.backward\u001b[1;34m(self, output_grad)\u001b[0m\n\u001b[0;32m     95\u001b[0m \u001b[39mdef\u001b[39;00m \u001b[39mbackward\u001b[39m(\u001b[39mself\u001b[39m, output_grad: np\u001b[39m.\u001b[39mndarray):\n\u001b[0;32m     96\u001b[0m     local_grad \u001b[39m=\u001b[39m \u001b[39mself\u001b[39m\u001b[39m.\u001b[39moutput \u001b[39m*\u001b[39m (\u001b[39m1\u001b[39m \u001b[39m-\u001b[39m \u001b[39mself\u001b[39m\u001b[39m.\u001b[39moutput)\n\u001b[1;32m---> 97\u001b[0m     \u001b[39mreturn\u001b[39;00m output_grad \u001b[39m*\u001b[39;49m local_grad\n",
      "\u001b[1;31mValueError\u001b[0m: operands could not be broadcast together with shapes (22500,32) (150,32) "
     ]
    }
   ],
   "source": [
    "res = mlp_class.forward(x)"
   ]
  }
 ],
 "metadata": {
  "kernelspec": {
   "display_name": "Python 3",
   "language": "python",
   "name": "python3"
  },
  "language_info": {
   "codemirror_mode": {
    "name": "ipython",
    "version": 3
   },
   "file_extension": ".py",
   "mimetype": "text/x-python",
   "name": "python",
   "nbconvert_exporter": "python",
   "pygments_lexer": "ipython3",
   "version": "3.10.4"
  }
 },
 "nbformat": 4,
 "nbformat_minor": 2
}
