{
 "cells": [
  {
   "cell_type": "code",
   "execution_count": 2,
   "metadata": {},
   "outputs": [
    {
     "name": "stderr",
     "output_type": "stream",
     "text": [
      "c:\\Users\\rsaif\\AppData\\Local\\Programs\\Python\\Python310\\lib\\site-packages\\scipy\\__init__.py:169: UserWarning: A NumPy version >=1.18.5 and <1.26.0 is required for this version of SciPy (detected version 1.26.1\n",
      "  warnings.warn(f\"A NumPy version >={np_minversion} and <{np_maxversion}\"\n"
     ]
    }
   ],
   "source": [
    "from sklearn import datasets\n",
    "import numpy as np\n",
    "dataset = datasets.load_iris()\n",
    "x, y = dataset['data'][:,[1,2]], dataset['target']\n",
    "y =  y == 1\n",
    "# model = MLP(M=32)\n",
    "# optimizer = GradientDescent(learning_rate=0.1, max_iters=20000)\n",
    "# yh = model.fit(x, y, optimizer).predict(x) \n",
    "# x0v = np.linspace(np.min(x[:,0]), np.max(x[:,0]), 200)\n",
    "# x1v = np.linspace(np.min(x[:,1]), np.max(x[:,1]), 200)\n",
    "# x0,x1 = np.meshgrid(x0v, x1v)\n",
    "# x_all = np.vstack((x0.ravel(),x1.ravel())).T\n",
    "# yh_all = model.predict(x_all) > .5\n",
    "# plt.scatter(x[:,0], x[:,1], c=y, marker='o', alpha=1)\n",
    "# plt.scatter(x_all[:,0], x_all[:,1], c=yh_all, marker='.', alpha=.01)\n",
    "# plt.ylabel('sepal length')\n",
    "# plt.xlabel('sepal width')\n",
    "# plt.title('decision boundary of the MLP')\n",
    "# plt.show()"
   ]
  },
  {
   "cell_type": "code",
   "execution_count": 3,
   "metadata": {},
   "outputs": [],
   "source": [
    "from mlp import MLP \n",
    "from node import *\n",
    "\n",
    "mul1 = Multiply()\n",
    "log1 = Logistic()\n",
    "mul2 = Multiply()\n",
    "log_out = LogisticOutput()\n",
    "\n",
    "X_mean = x.mean(axis=0)\n",
    "X_std = x.std(axis = 0)\n",
    "X_norm = (x - X_mean) / X_std\n",
    "mlp_class = MLP(\"logistic\", 1, 32, 2, 1, \"random\")"
   ]
  },
  {
   "cell_type": "code",
   "execution_count": 11,
   "metadata": {},
   "outputs": [
    {
     "data": {
      "text/plain": [
       "array([0.08568364, 0.08404906, 0.08267557, 0.08372433, 0.08491501,\n",
       "       0.08203254, 0.08536019, 0.08283492, 0.08427883, 0.08284415,\n",
       "       0.08308813, 0.08477323, 0.08112447, 0.08482666, 0.08346895,\n",
       "       0.08454666, 0.08243994, 0.08354784, 0.08573296, 0.08220837,\n",
       "       0.07989529, 0.08168493, 0.08488492, 0.08736002, 0.08796276,\n",
       "       0.08710161, 0.08353373, 0.08521501, 0.0828342 , 0.08386487,\n",
       "       0.08440603, 0.08187712])"
      ]
     },
     "execution_count": 11,
     "metadata": {},
     "output_type": "execute_result"
    }
   ],
   "source": [
    "N, D = x.shape\n",
    "np.random.seed(10)\n",
    "v = np.random.randn(D, 32) * 0.01\n",
    "w = np.random.randn(32) * 0.01\n",
    "w.shape\n",
    "a1 = mul1.forward(x, v)\n",
    "a2 = log1.forward(a1)\n",
    "a3 = mul2.forward(a2, w)\n",
    "a4 = log_out.forward(a3)\n",
    "a4\n",
    "da4 = log_out.backward(y)\n",
    "da3, dw3 = mul2.backward(da4)\n",
    "da2 = log1.backward(da3)\n",
    "da1, dw1 = mul1.backward(da2)\n",
    "dw3"
   ]
  },
  {
   "cell_type": "code",
   "execution_count": 3,
   "metadata": {},
   "outputs": [
    {
     "name": "stderr",
     "output_type": "stream",
     "text": [
      "c:\\Users\\rsaif\\OneDrive - McGill University\\COMP-551\\COMP-551\\Assignment_2\\node.py:80: RuntimeWarning: overflow encountered in exp\n",
      "  self.output = 1 / (1 + np.exp(-input))\n"
     ]
    },
    {
     "name": "stdout",
     "output_type": "stream",
     "text": [
      "Finished\n"
     ]
    }
   ],
   "source": [
    "mlp_class.fit(X_norm, y, learning_rate=0.1, max_iters=1e4)"
   ]
  },
  {
   "cell_type": "code",
   "execution_count": 12,
   "metadata": {},
   "outputs": [
    {
     "ename": "ValueError",
     "evalue": "operands could not be broadcast together with shapes (22500,32) (150,32) ",
     "output_type": "error",
     "traceback": [
      "\u001b[1;31m---------------------------------------------------------------------------\u001b[0m",
      "\u001b[1;31mValueError\u001b[0m                                Traceback (most recent call last)",
      "\u001b[1;32mc:\\Users\\rsaif\\OneDrive - McGill University\\COMP-551\\COMP-551\\Assignment_2\\test.ipynb Cell 5\u001b[0m line \u001b[0;36m2\n\u001b[0;32m      <a href='vscode-notebook-cell:/c%3A/Users/rsaif/OneDrive%20-%20McGill%20University/COMP-551/COMP-551/Assignment_2/test.ipynb#W4sZmlsZQ%3D%3D?line=0'>1</a>\u001b[0m res \u001b[39m=\u001b[39m mlp_class\u001b[39m.\u001b[39mforward(x)\n\u001b[1;32m----> <a href='vscode-notebook-cell:/c%3A/Users/rsaif/OneDrive%20-%20McGill%20University/COMP-551/COMP-551/Assignment_2/test.ipynb#W4sZmlsZQ%3D%3D?line=1'>2</a>\u001b[0m back \u001b[39m=\u001b[39m mlp_class\u001b[39m.\u001b[39;49mcompute_gradients(y)\n\u001b[0;32m      <a href='vscode-notebook-cell:/c%3A/Users/rsaif/OneDrive%20-%20McGill%20University/COMP-551/COMP-551/Assignment_2/test.ipynb#W4sZmlsZQ%3D%3D?line=2'>3</a>\u001b[0m back\n",
      "File \u001b[1;32mc:\\Users\\rsaif\\OneDrive - McGill University\\COMP-551\\COMP-551\\Assignment_2\\mlp.py:101\u001b[0m, in \u001b[0;36mcompute_gradients\u001b[1;34m(self, true_y)\u001b[0m\n\u001b[0;32m     99\u001b[0m         d_out, weight_grad = node.backward(d_out)\n\u001b[0;32m    100\u001b[0m         weight_grads.append(weight_grad)\n\u001b[1;32m--> 101\u001b[0m     else:\n\u001b[0;32m    102\u001b[0m         d_out = node.backward(d_out)\n\u001b[0;32m    103\u001b[0m weight_grads.reverse() # Flip to get right order\n",
      "File \u001b[1;32mc:\\Users\\rsaif\\OneDrive - McGill University\\COMP-551\\COMP-551\\Assignment_2\\node.py:97\u001b[0m, in \u001b[0;36mLogistic.backward\u001b[1;34m(self, output_grad)\u001b[0m\n\u001b[0;32m     95\u001b[0m \u001b[39mdef\u001b[39;00m \u001b[39mbackward\u001b[39m(\u001b[39mself\u001b[39m, output_grad: np\u001b[39m.\u001b[39mndarray):\n\u001b[0;32m     96\u001b[0m     local_grad \u001b[39m=\u001b[39m \u001b[39mself\u001b[39m\u001b[39m.\u001b[39moutput \u001b[39m*\u001b[39m (\u001b[39m1\u001b[39m \u001b[39m-\u001b[39m \u001b[39mself\u001b[39m\u001b[39m.\u001b[39moutput)\n\u001b[1;32m---> 97\u001b[0m     \u001b[39mreturn\u001b[39;00m output_grad \u001b[39m*\u001b[39;49m local_grad\n",
      "\u001b[1;31mValueError\u001b[0m: operands could not be broadcast together with shapes (22500,32) (150,32) "
     ]
    }
   ],
   "source": [
    "res = mlp_class.forward(x)"
   ]
  }
 ],
 "metadata": {
  "kernelspec": {
   "display_name": "Python 3",
   "language": "python",
   "name": "python3"
  },
  "language_info": {
   "codemirror_mode": {
    "name": "ipython",
    "version": 3
   },
   "file_extension": ".py",
   "mimetype": "text/x-python",
   "name": "python",
   "nbconvert_exporter": "python",
   "pygments_lexer": "ipython3",
   "version": "3.10.4"
  }
 },
 "nbformat": 4,
 "nbformat_minor": 2
}
