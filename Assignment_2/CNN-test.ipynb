{
 "cells": [
  {
   "cell_type": "code",
   "execution_count": 48,
   "id": "9ead11fa",
   "metadata": {},
   "outputs": [],
   "source": [
    "import numpy as np\n",
    "import random\n",
    "import copy\n",
    "import matplotlib.pyplot as plt\n",
    "\n",
    "import torch\n",
    "import torch.nn as nn\n",
    "import torch.optim as optim\n",
    "import torch.nn.functional as function\n",
    "from torchvision import datasets\n",
    "import torchvision.transforms as transforms\n",
    "from torch.autograd import Variable\n",
    "from torch.utils.data import DataLoader\n",
    "from sklearn.preprocessing import StandardScaler"
   ]
  },
  {
   "cell_type": "code",
   "execution_count": 49,
   "id": "0118d189",
   "metadata": {},
   "outputs": [
    {
     "name": "stdout",
     "output_type": "stream",
     "text": [
      "Files already downloaded and verified\n",
      "Files already downloaded and verified\n"
     ]
    }
   ],
   "source": [
    "# Set seed for reproducibility\n",
    "seed = 42\n",
    "random.seed(seed)\n",
    "np.random.seed(seed)\n",
    "torch.manual_seed(seed)\n",
    "\n",
    "# Initialize generator\n",
    "generator = torch.Generator().manual_seed(seed)\n",
    "\n",
    "# For Fashion MNIST\n",
    "trainset_fashion = datasets.FashionMNIST('./data', download=True, train=True, transform=transforms.ToTensor())\n",
    "trainloader_fashion = DataLoader(trainset_fashion, batch_size=64, shuffle=True, generator=generator)\n",
    "\n",
    "testset_fashion = datasets.FashionMNIST('./data', download=True, train=False, transform=transforms.ToTensor())\n",
    "testloader_fashion = DataLoader(testset_fashion, batch_size=64, shuffle=False)\n",
    "\n",
    "\n",
    "# For CIFAR-10\n",
    "transform_cifar = transforms.Compose([transforms.ToTensor(), transforms.Normalize((0.5, 0.5, 0.5), (0.5, 0.5, 0.5))])\n",
    "trainset_cifar = datasets.CIFAR10('./data', download=True, train=True, transform=transform_cifar)\n",
    "trainloader_cifar = DataLoader(trainset_cifar, batch_size=64, shuffle=True, generator=generator)\n",
    "\n",
    "testset_cifar = datasets.CIFAR10('./data', download=True, train=False, transform=transform_cifar)\n",
    "testloader_cifar = DataLoader(testset_cifar, batch_size=64, shuffle=False)"
   ]
  },
  {
   "cell_type": "code",
   "execution_count": 50,
   "id": "2d50648b",
   "metadata": {},
   "outputs": [],
   "source": [
    "class DynamicCNN(nn.Module):\n",
    "    def __init__(self, num_classes, input_channels, input_size):\n",
    "        super(DynamicCNN, self).__init__()\n",
    "        self.conv1 = nn.Conv2d(in_channels=input_channels, out_channels=32, kernel_size=3, padding=1)\n",
    "        self.relu1 = nn.ReLU()\n",
    "        self.pool = nn.MaxPool2d(kernel_size=2, stride=2)\n",
    "        self.conv2 = nn.Conv2d(32, 64, 3, padding=1)\n",
    "        self.relu2 = nn.ReLU()\n",
    "\n",
    "        # Calculate the size of the fully connected layer\n",
    "        self.fc_input_size = 64 * (input_size // 4) * (input_size // 4)\n",
    "\n",
    "        self.fc1 = nn.Linear(self.fc_input_size, 128)\n",
    "        self.relu3 = nn.ReLU()\n",
    "        self.fc2 = nn.Linear(128, num_classes)\n",
    "\n",
    "    def forward(self, x):\n",
    "        x = self.conv1(x)\n",
    "        x = self.relu1(x)\n",
    "        x = self.pool(x)\n",
    "        x = self.conv2(x)\n",
    "        x = self.relu2(x)\n",
    "        x = self.pool(x)\n",
    "        x = x.view(x.size(0), -1)\n",
    "        x = self.fc1(x)\n",
    "        x = self.relu3(x)\n",
    "        x = self.fc2(x)\n",
    "        return x\n",
    "\n",
    "class CNN:\n",
    "    def __init__(self, num_classes, input_channels, input_size):\n",
    "        self.num_classes = num_classes\n",
    "        self.input_channels = input_channels\n",
    "        self.input_size = input_size\n",
    "\n",
    "    @staticmethod\n",
    "    def validate(model, data, device):\n",
    "        correct = 0\n",
    "        with torch.no_grad():\n",
    "            for images, labels in data:\n",
    "                images = images.to(device)\n",
    "                labels = labels.to(device)\n",
    "                x = model(images)\n",
    "                value, pred = torch.max(x, 1)\n",
    "                correct += (pred == labels).sum().item()\n",
    "        accuracy = 100 * correct / len(data.dataset)\n",
    "        return accuracy\n",
    "\n",
    "    def train(self, trainloader, testloader, num_epochs=5, lr=0.001, device=\"cpu\"):\n",
    "        accuracies = []\n",
    "        cnn = DynamicCNN(self.num_classes, self.input_channels, self.input_size).to(device)\n",
    "        cec = nn.CrossEntropyLoss()\n",
    "        optimizer = optim.Adam(cnn.parameters(), lr=lr)\n",
    "        max_accuracy = 0\n",
    "        best_model = None\n",
    "\n",
    "        for epoch in range(num_epochs):\n",
    "            cnn.train()\n",
    "            for images, labels in trainloader:\n",
    "                images = images.to(device)\n",
    "                labels = labels.to(device)\n",
    "                optimizer.zero_grad()\n",
    "                pred = cnn(images)\n",
    "                loss = cec(pred, labels)\n",
    "                loss.backward()\n",
    "                optimizer.step()\n",
    "\n",
    "            cnn.eval()\n",
    "            accuracy = self.validate(cnn, testloader, device)\n",
    "            accuracies.append(accuracy)\n",
    "\n",
    "            if accuracy > max_accuracy:\n",
    "                best_model = copy.deepcopy(cnn)\n",
    "                max_accuracy = accuracy\n",
    "\n",
    "            print(\"Epoch\", epoch + 1, \": Accuracy\", accuracy, \"%\")\n",
    "\n",
    "        return accuracies, best_model\n"
   ]
  },
  {
   "cell_type": "code",
   "execution_count": 51,
   "id": "1c7037cb",
   "metadata": {},
   "outputs": [
    {
     "name": "stdout",
     "output_type": "stream",
     "text": [
      "Epoch 1 : Accuracy 61.45 %\n",
      "Epoch 2 : Accuracy 66.85 %\n",
      "Epoch 3 : Accuracy 69.01 %\n",
      "Epoch 4 : Accuracy 71.08 %\n",
      "Epoch 5 : Accuracy 71.61 %\n"
     ]
    }
   ],
   "source": [
    "cnn_cifar = CNN(10, 3, 32)\n",
    "accuracies_cifar, best_model_cifar = cnn_cifar.train(trainloader_cifar, testloader_cifar, num_epochs=5, lr=0.001, device=\"cpu\")"
   ]
  },
  {
   "cell_type": "code",
   "execution_count": 52,
   "id": "67b4258a",
   "metadata": {},
   "outputs": [
    {
     "name": "stdout",
     "output_type": "stream",
     "text": [
      "Epoch 1 : Accuracy 87.26 %\n",
      "Epoch 2 : Accuracy 87.83 %\n",
      "Epoch 3 : Accuracy 90.04 %\n",
      "Epoch 4 : Accuracy 90.07 %\n",
      "Epoch 5 : Accuracy 91.08 %\n"
     ]
    }
   ],
   "source": [
    "cnn_fashion = CNN(10, 1, 28)\n",
    "accuracies_fashion, best_model_fashion = cnn_fashion.train(trainloader_fashion, testloader_fashion, num_epochs=5, lr=0.001, device=\"cpu\")"
   ]
  },
  {
   "cell_type": "code",
   "execution_count": 53,
   "id": "3b0c4b46",
   "metadata": {},
   "outputs": [
    {
     "data": {
      "text/plain": [
       "Text(0.5, 1.0, 'CNN models')"
      ]
     },
     "execution_count": 53,
     "metadata": {},
     "output_type": "execute_result"
    },
    {
     "data": {
      "image/png": "[encoded data removed]",
      "text/plain": [
       "<Figure size 640x480 with 1 Axes>"
      ]
     },
     "metadata": {},
     "output_type": "display_data"
    }
   ],
   "source": [
    "plt.plot(accuracies_cifar, label=\"CIFAR dataset\")\n",
    "plt.plot(accuracies_fashion, label=\"Fashion dataset\")\n",
    "plt.legend()\n",
    "plt.xlabel(\"Epoch\")\n",
    "plt.ylabel(\"Accuracy\")\n",
    "plt.title(\"CNN models\")"
   ]
  },
  {
   "cell_type": "code",
   "execution_count": null,
   "id": "d96eb782",
   "metadata": {},
   "outputs": [],
   "source": []
  },
  {
   "cell_type": "code",
   "execution_count": null,
   "id": "092748e9",
   "metadata": {},
   "outputs": [],
   "source": []
  }
 ],
 "metadata": {
  "kernelspec": {
   "display_name": "Python 3 (ipykernel)",
   "language": "python",
   "name": "python3"
  },
  "language_info": {
   "codemirror_mode": {
    "name": "ipython",
    "version": 3
   },
   "file_extension": ".py",
   "mimetype": "text/x-python",
   "name": "python",
   "nbconvert_exporter": "python",
   "pygments_lexer": "ipython3",
   "version": "3.11.4"
  }
 },
 "nbformat": 4,
 "nbformat_minor": 5
}
