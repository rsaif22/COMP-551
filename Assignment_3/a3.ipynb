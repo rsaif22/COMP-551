{
 "cells": [
  {
   "cell_type": "code",
   "execution_count": 1,
   "metadata": {},
   "outputs": [
    {
     "name": "stderr",
     "output_type": "stream",
     "text": [
      "c:\\Users\\rsaif\\AppData\\Local\\Programs\\Python\\Python310\\lib\\site-packages\\tqdm\\auto.py:21: TqdmWarning: IProgress not found. Please update jupyter and ipywidgets. See https://ipywidgets.readthedocs.io/en/stable/user_install.html\n",
      "  from .autonotebook import tqdm as notebook_tqdm\n",
      "c:\\Users\\rsaif\\AppData\\Local\\Programs\\Python\\Python310\\lib\\site-packages\\scipy\\__init__.py:169: UserWarning: A NumPy version >=1.18.5 and <1.26.0 is required for this version of SciPy (detected version 1.26.1\n",
      "  warnings.warn(f\"A NumPy version >={np_minversion} and <{np_maxversion}\"\n"
     ]
    }
   ],
   "source": [
    "from datasets import load_dataset\n",
    "from sklearn.feature_extraction.text import CountVectorizer"
   ]
  },
  {
   "cell_type": "code",
   "execution_count": 2,
   "metadata": {},
   "outputs": [],
   "source": [
    "# Download emotion dataset to without separate train/test splits\n",
    "dataset = load_dataset(\"emotion\", cache_dir=\"./data\")"
   ]
  },
  {
   "cell_type": "code",
   "execution_count": 3,
   "metadata": {},
   "outputs": [],
   "source": [
    "# Tokenize the dataset\n",
    "vectorizer = CountVectorizer()\n",
    "# Extract text and labels\n",
    "X = vectorizer.fit_transform(dataset[\"train\"][\"text\"])\n",
    "# dataset[\"train\"][\"text\"]\n",
    "X = X.toarray()\n",
    "import numpy as np \n",
    "np.argwhere(X[0, :] == 1)\n",
    "y = np.array(dataset[\"train\"][\"label\"]).reshape(-1, 1)"
   ]
  },
  {
   "cell_type": "code",
   "execution_count": 4,
   "metadata": {},
   "outputs": [],
   "source": [
    "X_test = vectorizer.transform(dataset[\"test\"][\"text\"])\n",
    "X_test = X_test.toarray()\n",
    "y_test = np.array(dataset[\"test\"][\"label\"]).reshape(-1, 1)"
   ]
  },
  {
   "cell_type": "code",
   "execution_count": 5,
   "metadata": {},
   "outputs": [
    {
     "name": "stderr",
     "output_type": "stream",
     "text": [
      "c:\\Users\\rsaif\\OneDrive - McGill University\\COMP-551\\COMP-551\\Assignment_3\\naive_bayes.py:54: RuntimeWarning: divide by zero encountered in log\n",
      "  log_probs_present = np.sum(np.log((self.count_matrix)/(self.words_per_class)) * X[i, :])\n",
      "c:\\Users\\rsaif\\OneDrive - McGill University\\COMP-551\\COMP-551\\Assignment_3\\naive_bayes.py:54: RuntimeWarning: invalid value encountered in multiply\n",
      "  log_probs_present = np.sum(np.log((self.count_matrix)/(self.words_per_class)) * X[i, :])\n"
     ]
    },
    {
     "name": "stdout",
     "output_type": "stream",
     "text": [
      "    true  pred\n",
      "0      0     0\n",
      "1      0     0\n",
      "2      0     0\n",
      "3      1     0\n",
      "4      0     0\n",
      "..   ...   ...\n",
      "95     3     0\n",
      "96     2     0\n",
      "97     0     0\n",
      "98     3     0\n",
      "99     0     0\n",
      "\n",
      "[100 rows x 2 columns]\n"
     ]
    }
   ],
   "source": [
    "from naive_bayes import NaiveBayes\n",
    "# Train the model\n",
    "model = NaiveBayes()\n",
    "model.fit(X, y)\n",
    "# Predict on the test set\n",
    "y_pred = model.predict(X_test)\n",
    "# Pandas dataframe for easy viewing\n",
    "# import pandas as pd\n",
    "# df = pd.DataFrame({\"true\": y_test.flatten(), \"pred\": y_pred.flatten()})\n",
    "# # Print first 100 rows\n",
    "# print(df.head(100))\n",
    "model.evaluate_acc(X_test, y_test)\n",
    "\n"
   ]
  }
 ],
 "metadata": {
  "kernelspec": {
   "display_name": "Python 3",
   "language": "python",
   "name": "python3"
  },
  "language_info": {
   "codemirror_mode": {
    "name": "ipython",
    "version": 3
   },
   "file_extension": ".py",
   "mimetype": "text/x-python",
   "name": "python",
   "nbconvert_exporter": "python",
   "pygments_lexer": "ipython3",
   "version": "3.10.4"
  }
 },
 "nbformat": 4,
 "nbformat_minor": 2
}
