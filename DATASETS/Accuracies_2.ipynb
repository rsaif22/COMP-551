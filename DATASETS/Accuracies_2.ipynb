{
 "cells": [
  {
   "cell_type": "code",
   "execution_count": 1,
   "metadata": {},
   "outputs": [],
   "source": [
    "datasets = ['breast-cancer-wisconsin-data.csv', 'car_evaluation.csv', 'diabetes.csv', 'iris.csv', 'titanic.csv']\n",
    "output_name = ['diagnosis','eval','Outcome','Species','Survived']\n",
    "num_classes = [2,4,2,3,2]\n",
    "num_features = [9,6,8,4,9]\n",
    "useless_features = [['id'],[],[],['Id'],['PassengerId','Name']]\n"
   ]
  },
  {
   "cell_type": "code",
   "execution_count": 2,
   "metadata": {},
   "outputs": [],
   "source": [
    "datasets = ['breast-cancer-wisconsin-data.csv', 'car_evaluation.csv', 'diabetes.csv', 'iris.csv', 'titanic.csv']\n",
    "output_name = ['diagnosis','eval','Outcome','Species','Survived']\n",
    "num_classes = [2,4,2,3,2]\n",
    "num_features = [30,6,8,4,11]\n",
    "useless_features = [[\"id\"],[],[],['Id'],[]]\n",
    "num_cuts = [12,num_features[1],num_features[2],num_features[3],num_features[4]]\n"
   ]
  },
  {
   "cell_type": "code",
   "execution_count": 3,
   "metadata": {},
   "outputs": [],
   "source": [
    "from pytorch_DNDT import *\n",
    "from pytorch_DT import *\n",
    "from pytorch_nn import *\n",
    "seed = 1943 #like in the paper's code"
   ]
  },
  {
   "cell_type": "code",
   "execution_count": 4,
   "metadata": {},
   "outputs": [],
   "source": [
    "#TODO: add NN conections"
   ]
  },
  {
   "cell_type": "code",
   "execution_count": 5,
   "metadata": {},
   "outputs": [
    {
     "name": "stderr",
     "output_type": "stream",
     "text": [
      "c:\\Users\\rsaif\\OneDrive - McGill University\\COMP-551\\COMP-551\\.venv\\lib\\site-packages\\sklearn\\preprocessing\\_label.py:114: DataConversionWarning: A column-vector y was passed when a 1d array was expected. Please change the shape of y to (n_samples, ), for example using ravel().\n",
      "  y = column_or_1d(y, warn=True)\n",
      "c:\\Users\\rsaif\\OneDrive - McGill University\\COMP-551\\COMP-551\\.venv\\lib\\site-packages\\tqdm\\auto.py:21: TqdmWarning: IProgress not found. Please update jupyter and ipywidgets. See https://ipywidgets.readthedocs.io/en/stable/user_install.html\n",
      "  from .autonotebook import tqdm as notebook_tqdm\n"
     ]
    },
    {
     "ename": "TypeError",
     "evalue": "'int' object is not callable",
     "output_type": "error",
     "traceback": [
      "\u001b[1;31m---------------------------------------------------------------------------\u001b[0m",
      "\u001b[1;31mTypeError\u001b[0m                                 Traceback (most recent call last)",
      "\u001b[1;32mc:\\Users\\rsaif\\OneDrive - McGill University\\COMP-551\\COMP-551\\DATASETS\\Accuracies.ipynb Cell 5\u001b[0m line \u001b[0;36m2\n\u001b[0;32m      <a href='vscode-notebook-cell:/c%3A/Users/rsaif/OneDrive%20-%20McGill%20University/COMP-551/COMP-551/DATASETS/Accuracies.ipynb#W4sZmlsZQ%3D%3D?line=0'>1</a>\u001b[0m \u001b[39mfor\u001b[39;00m i \u001b[39min\u001b[39;00m \u001b[39mrange\u001b[39m(\u001b[39mlen\u001b[39m(datasets)):\n\u001b[1;32m----> <a href='vscode-notebook-cell:/c%3A/Users/rsaif/OneDrive%20-%20McGill%20University/COMP-551/COMP-551/DATASETS/Accuracies.ipynb#W4sZmlsZQ%3D%3D?line=1'>2</a>\u001b[0m     nn_val \u001b[39m=\u001b[39m build_test_NN(datasets[i], output_name[i], num_classes[i], num_features[i], seed, useless_features[i])\n\u001b[0;32m      <a href='vscode-notebook-cell:/c%3A/Users/rsaif/OneDrive%20-%20McGill%20University/COMP-551/COMP-551/DATASETS/Accuracies.ipynb#W4sZmlsZQ%3D%3D?line=2'>3</a>\u001b[0m     dndt_val \u001b[39m=\u001b[39m build_test_DNDT(datasets[i], output_name[i], num_classes[i], num_features[i], num_cuts[i], seed, useless_features[i])\n\u001b[0;32m      <a href='vscode-notebook-cell:/c%3A/Users/rsaif/OneDrive%20-%20McGill%20University/COMP-551/COMP-551/DATASETS/Accuracies.ipynb#W4sZmlsZQ%3D%3D?line=3'>4</a>\u001b[0m     dt_val \u001b[39m=\u001b[39m build_test_DT(datasets[i], output_name[i], num_classes[i], useless_features[i])\n",
      "File \u001b[1;32mc:\\Users\\rsaif\\OneDrive - McGill University\\COMP-551\\COMP-551\\DATASETS\\pytorch_nn.py:55\u001b[0m, in \u001b[0;36mbuild_test_NN\u001b[1;34m(datafile, output_column_name, num_classes, num_features, seed, exclude_features)\u001b[0m\n\u001b[0;32m     51\u001b[0m \u001b[39m# Build a decision tree and train it\u001b[39;00m\n\u001b[0;32m     52\u001b[0m \u001b[39m# clf = tree.DecisionTreeClassifier(random_state=seed)\u001b[39;00m\n\u001b[0;32m     53\u001b[0m \u001b[39m# clf.fit(X_train, y_train)\u001b[39;00m\n\u001b[0;32m     54\u001b[0m neural_net \u001b[39m=\u001b[39m NeuralNetwork(num_features, \u001b[39m50\u001b[39m, num_classes)\n\u001b[1;32m---> 55\u001b[0m neural_net \u001b[39m=\u001b[39m neural_net\u001b[39m.\u001b[39;49mfit(X_train, y_train, X_test, y_test, epochs\u001b[39m=\u001b[39;49m\u001b[39m10\u001b[39;49m, batch_size\u001b[39m=\u001b[39;49m\u001b[39m32\u001b[39;49m, learning_rate\u001b[39m=\u001b[39;49m\u001b[39m0.01\u001b[39;49m)\n\u001b[0;32m     57\u001b[0m yh \u001b[39m=\u001b[39m neural_net\u001b[39m.\u001b[39mpredict(X_test)\n\u001b[0;32m     58\u001b[0m \u001b[39m# Test the model on the test set\u001b[39;00m\n",
      "File \u001b[1;32mc:\\Users\\rsaif\\OneDrive - McGill University\\COMP-551\\COMP-551\\DATASETS\\nn_model.py:37\u001b[0m, in \u001b[0;36mNeuralNetwork.fit\u001b[1;34m(self, x, y, x_test, y_test, learning_rate, epochs, batch_size)\u001b[0m\n\u001b[0;32m     35\u001b[0m optimizer \u001b[39m=\u001b[39m torch\u001b[39m.\u001b[39moptim\u001b[39m.\u001b[39mSGD(params\u001b[39m=\u001b[39mopt_params, lr\u001b[39m=\u001b[39mlearning_rate, momentum\u001b[39m=\u001b[39m\u001b[39m0.9\u001b[39m)\n\u001b[0;32m     36\u001b[0m \u001b[39mself\u001b[39m\u001b[39m.\u001b[39mtrain()\n\u001b[1;32m---> 37\u001b[0m dataset \u001b[39m=\u001b[39m TensorDataset(x, y)\n\u001b[0;32m     39\u001b[0m best_model \u001b[39m=\u001b[39m \u001b[39mNone\u001b[39;00m \n\u001b[0;32m     40\u001b[0m best_loss \u001b[39m=\u001b[39m torch\u001b[39m.\u001b[39minf\n",
      "File \u001b[1;32mc:\\Users\\rsaif\\OneDrive - McGill University\\COMP-551\\COMP-551\\.venv\\lib\\site-packages\\torch\\utils\\data\\dataset.py:204\u001b[0m, in \u001b[0;36mTensorDataset.__init__\u001b[1;34m(self, *tensors)\u001b[0m\n\u001b[0;32m    203\u001b[0m \u001b[39mdef\u001b[39;00m \u001b[39m__init__\u001b[39m(\u001b[39mself\u001b[39m, \u001b[39m*\u001b[39mtensors: Tensor) \u001b[39m-\u001b[39m\u001b[39m>\u001b[39m \u001b[39mNone\u001b[39;00m:\n\u001b[1;32m--> 204\u001b[0m     \u001b[39massert\u001b[39;00m \u001b[39mall\u001b[39;49m(tensors[\u001b[39m0\u001b[39;49m]\u001b[39m.\u001b[39;49msize(\u001b[39m0\u001b[39;49m) \u001b[39m==\u001b[39;49m tensor\u001b[39m.\u001b[39;49msize(\u001b[39m0\u001b[39;49m) \u001b[39mfor\u001b[39;49;00m tensor \u001b[39min\u001b[39;49;00m tensors), \u001b[39m\"\u001b[39m\u001b[39mSize mismatch between tensors\u001b[39m\u001b[39m\"\u001b[39m\n\u001b[0;32m    205\u001b[0m     \u001b[39mself\u001b[39m\u001b[39m.\u001b[39mtensors \u001b[39m=\u001b[39m tensors\n",
      "File \u001b[1;32mc:\\Users\\rsaif\\OneDrive - McGill University\\COMP-551\\COMP-551\\.venv\\lib\\site-packages\\torch\\utils\\data\\dataset.py:204\u001b[0m, in \u001b[0;36m<genexpr>\u001b[1;34m(.0)\u001b[0m\n\u001b[0;32m    203\u001b[0m \u001b[39mdef\u001b[39;00m \u001b[39m__init__\u001b[39m(\u001b[39mself\u001b[39m, \u001b[39m*\u001b[39mtensors: Tensor) \u001b[39m-\u001b[39m\u001b[39m>\u001b[39m \u001b[39mNone\u001b[39;00m:\n\u001b[1;32m--> 204\u001b[0m     \u001b[39massert\u001b[39;00m \u001b[39mall\u001b[39m(tensors[\u001b[39m0\u001b[39m]\u001b[39m.\u001b[39msize(\u001b[39m0\u001b[39m) \u001b[39m==\u001b[39m tensor\u001b[39m.\u001b[39;49msize(\u001b[39m0\u001b[39;49m) \u001b[39mfor\u001b[39;00m tensor \u001b[39min\u001b[39;00m tensors), \u001b[39m\"\u001b[39m\u001b[39mSize mismatch between tensors\u001b[39m\u001b[39m\"\u001b[39m\n\u001b[0;32m    205\u001b[0m     \u001b[39mself\u001b[39m\u001b[39m.\u001b[39mtensors \u001b[39m=\u001b[39m tensors\n",
      "\u001b[1;31mTypeError\u001b[0m: 'int' object is not callable"
     ]
    }
   ],
   "source": [
    "for i in range(len(datasets)):\n",
    "    nn_val = build_test_NN(datasets[i], output_name[i], num_classes[i], num_features[i], seed, useless_features[i])\n",
    "    dndt_val = build_test_DNDT(datasets[i], output_name[i], num_classes[i], num_features[i], num_cuts[i], seed, useless_features[i])\n",
    "    dt_val = build_test_DT(datasets[i], output_name[i], num_classes[i], useless_features[i])\n",
    "\n",
    "    print(datasets[i] + ' DNDT: ' + str(dndt_val) + ' DT: ' + str(dt_val))"
   ]
  },
  {
   "cell_type": "code",
   "execution_count": null,
   "metadata": {},
   "outputs": [],
   "source": [
    "#TODO: add cut point change for DNDT"
   ]
  }
 ],
 "metadata": {
  "kernelspec": {
   "display_name": "Python 3",
   "language": "python",
   "name": "python3"
  },
  "language_info": {
   "codemirror_mode": {
    "name": "ipython",
    "version": 3
   },
   "file_extension": ".py",
   "mimetype": "text/x-python",
   "name": "python",
   "nbconvert_exporter": "python",
   "pygments_lexer": "ipython3",
   "version": "3.10.4"
  }
 },
 "nbformat": 4,
 "nbformat_minor": 2
}
