{
 "cells": [
  {
   "cell_type": "code",
   "execution_count": 1,
   "metadata": {},
   "outputs": [],
   "source": [
    "datasets = ['breast-cancer-wisconsin-data.csv', 'car_evaluation.csv', 'diabetes.csv', 'iris.csv', 'titanic.csv']\n",
    "output_name = ['diagnosis','eval','Outcome','Species','Survived']\n",
    "num_classes = [2,4,2,3,2]\n",
    "num_features = [9,6,8,4,9]\n",
    "useless_features = [['id'],[],[],['Id'],['PassengerId','Name']]\n"
   ]
  },
  {
   "cell_type": "code",
   "execution_count": 2,
   "metadata": {},
   "outputs": [],
   "source": [
    "datasets = ['breast-cancer-wisconsin-data.csv', 'car_evaluation.csv', 'diabetes.csv', 'iris.csv', 'titanic.csv']\n",
    "output_name = ['diagnosis','eval','Outcome','Species','Survived']\n",
    "num_classes = [2,4,2,3,2]\n",
    "num_features = [30,6,8,4,11]\n",
    "useless_features = [[\"id\"],[],[],['Id'],[]]\n",
    "num_cuts = [12,num_features[1],num_features[2],num_features[3],num_features[4]]\n"
   ]
  },
  {
   "cell_type": "code",
   "execution_count": 3,
   "metadata": {},
   "outputs": [],
   "source": [
    "from pytorch_DNDT import *\n",
    "from pytorch_DT import *\n",
    "from pytorch_nn import *\n",
    "seed = 1943 #like in the paper's code"
   ]
  },
  {
   "cell_type": "code",
   "execution_count": 4,
   "metadata": {},
   "outputs": [],
   "source": [
    "#TODO: add NN conections"
   ]
  },
  {
   "cell_type": "code",
   "execution_count": 5,
   "metadata": {},
   "outputs": [
    {
     "name": "stderr",
     "output_type": "stream",
     "text": [
      "c:\\Users\\rsaif\\OneDrive - McGill University\\COMP-551\\COMP-551\\.venv\\lib\\site-packages\\sklearn\\preprocessing\\_label.py:114: DataConversionWarning: A column-vector y was passed when a 1d array was expected. Please change the shape of y to (n_samples, ), for example using ravel().\n",
      "  y = column_or_1d(y, warn=True)\n",
      "c:\\Users\\rsaif\\OneDrive - McGill University\\COMP-551\\COMP-551\\.venv\\lib\\site-packages\\tqdm\\auto.py:21: TqdmWarning: IProgress not found. Please update jupyter and ipywidgets. See https://ipywidgets.readthedocs.io/en/stable/user_install.html\n",
      "  from .autonotebook import tqdm as notebook_tqdm\n"
     ]
    },
    {
     "name": "stdout",
     "output_type": "stream",
     "text": [
      "breast-cancer-wisconsin-data.csv DNDT: 0.9578207381370826 DT: 0.9122807017543859  NN: 0.9824561403508771\n"
     ]
    },
    {
     "name": "stderr",
     "output_type": "stream",
     "text": [
      "c:\\Users\\rsaif\\OneDrive - McGill University\\COMP-551\\COMP-551\\.venv\\lib\\site-packages\\sklearn\\preprocessing\\_label.py:114: DataConversionWarning: A column-vector y was passed when a 1d array was expected. Please change the shape of y to (n_samples, ), for example using ravel().\n",
      "  y = column_or_1d(y, warn=True)\n"
     ]
    },
    {
     "name": "stdout",
     "output_type": "stream",
     "text": [
      "car_evaluation.csv DNDT: 0.7876157407407407 DT: 0.9797687861271677  NN: 0.6878612716763006\n"
     ]
    },
    {
     "name": "stderr",
     "output_type": "stream",
     "text": [
      "c:\\Users\\rsaif\\OneDrive - McGill University\\COMP-551\\COMP-551\\.venv\\lib\\site-packages\\sklearn\\preprocessing\\_label.py:114: DataConversionWarning: A column-vector y was passed when a 1d array was expected. Please change the shape of y to (n_samples, ), for example using ravel().\n",
      "  y = column_or_1d(y, warn=True)\n"
     ]
    },
    {
     "name": "stdout",
     "output_type": "stream",
     "text": [
      "diabetes.csv DNDT: 0.8697916666666666 DT: 0.7012987012987013  NN: 0.7532467532467533\n"
     ]
    },
    {
     "name": "stderr",
     "output_type": "stream",
     "text": [
      "c:\\Users\\rsaif\\OneDrive - McGill University\\COMP-551\\COMP-551\\.venv\\lib\\site-packages\\sklearn\\preprocessing\\_label.py:114: DataConversionWarning: A column-vector y was passed when a 1d array was expected. Please change the shape of y to (n_samples, ), for example using ravel().\n",
      "  y = column_or_1d(y, warn=True)\n"
     ]
    },
    {
     "name": "stdout",
     "output_type": "stream",
     "text": [
      "iris.csv DNDT: 0.96 DT: 0.9666666666666667  NN: 0.8\n"
     ]
    },
    {
     "name": "stderr",
     "output_type": "stream",
     "text": [
      "c:\\Users\\rsaif\\OneDrive - McGill University\\COMP-551\\COMP-551\\.venv\\lib\\site-packages\\sklearn\\preprocessing\\_label.py:114: DataConversionWarning: A column-vector y was passed when a 1d array was expected. Please change the shape of y to (n_samples, ), for example using ravel().\n",
      "  y = column_or_1d(y, warn=True)\n"
     ]
    },
    {
     "name": "stdout",
     "output_type": "stream",
     "text": [
      "titanic.csv DNDT: 0.6363636363636364 DT: 1.0  NN: 0.6190476190476191\n"
     ]
    }
   ],
   "source": [
    "for i in range(len(datasets)):\n",
    "    nn_val = build_test_NN(datasets[i], output_name[i], num_classes[i], num_features[i], seed, useless_features[i])\n",
    "    dndt_val = build_test_DNDT(datasets[i], output_name[i], num_features[i], num_cuts[i], seed, useless_features[i])\n",
    "    dt_val = build_test_DT(datasets[i], output_name[i], seed, useless_features[i])\n",
    "\n",
    "    print(datasets[i] + ' DNDT: ' + str(dndt_val) + ' DT: ' + str(dt_val), ' NN: ' + str(nn_val))"
   ]
  },
  {
   "cell_type": "code",
   "execution_count": null,
   "metadata": {},
   "outputs": [],
   "source": [
    "#TODO: add cut point change for DNDT"
   ]
  }
 ],
 "metadata": {
  "kernelspec": {
   "display_name": "Python 3",
   "language": "python",
   "name": "python3"
  },
  "language_info": {
   "codemirror_mode": {
    "name": "ipython",
    "version": 3
   },
   "file_extension": ".py",
   "mimetype": "text/x-python",
   "name": "python",
   "nbconvert_exporter": "python",
   "pygments_lexer": "ipython3",
   "version": "3.10.4"
  }
 },
 "nbformat": 4,
 "nbformat_minor": 2
}
