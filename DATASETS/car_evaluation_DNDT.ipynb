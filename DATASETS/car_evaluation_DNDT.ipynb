{
 "cells": [
  {
   "cell_type": "code",
   "execution_count": null,
   "metadata": {},
   "outputs": [],
   "source": [
    "#Age of patient at time of operation (numerical)\n",
    "#Patient's year of operation (year - 1900, numerical)\n",
    "#Number of positive axillary nodes detected (numerical)\n",
    "#Survival status (class attribute)\n",
    "#1 = the patient survived 5 years or longer\n",
    "#2 = the patient died within 5 year\n"
   ]
  },
  {
   "cell_type": "code",
   "execution_count": 8,
   "metadata": {},
   "outputs": [
    {
     "name": "stdout",
     "output_type": "stream",
     "text": [
      "   buying  maint  doors  persons  lug_boot  safety  eval\n",
      "0       3      3      0        0         2       1     2\n",
      "1       3      3      0        0         2       2     2\n",
      "2       3      3      0        0         2       0     2\n",
      "3       3      3      0        0         1       1     2\n",
      "4       3      3      0        0         1       2     2\n",
      "(1728, 4) 4 (1728, 6)\n",
      "[[3 3 0 0 2 1]\n",
      " [3 3 0 0 2 2]\n",
      " [3 3 0 0 2 0]\n",
      " ...\n",
      " [1 1 3 2 0 1]\n",
      " [1 1 3 2 0 2]\n",
      " [1 1 3 2 0 0]]\n"
     ]
    }
   ],
   "source": [
    "import pandas as pd\n",
    "import numpy as np\n",
    "from sklearn.preprocessing import LabelEncoder\n",
    "\n",
    "\n",
    "# Define a simple label encoder function\n",
    "def encode_column(column):\n",
    "    if column.dtype == object:\n",
    "        column = column.astype('category').cat.codes\n",
    "    return column\n",
    "\n",
    "# Apply the encoder to each column\n",
    "\n",
    "# Assuming 'data.csv' is your CSV file\n",
    "df = pd.read_csv('car_evaluation.csv')\n",
    "df = df.apply(encode_column)\n",
    "print(df.head())\n",
    "# Separate the features and the target variable\n",
    "#buying,maint,doors,persons,lug_boot,safety low,eval\n",
    "X = df[['buying','maint','doors','persons','lug_boot','safety']].to_numpy()\n",
    "y = df['eval']\n",
    "\n",
    "\n",
    "# Convert the species labels to integers\n",
    "species_to_int = {species: idx for idx, species in enumerate(np.unique(y))}\n",
    "y_int = np.array([species_to_int[eval] for eval in y])\n",
    "\n",
    "# Optionally, convert the integer labels to one-hot encoding\n",
    "def one_hot_encode(labels, num_classes):\n",
    "    return np.eye(num_classes)[labels]\n",
    "\n",
    "num_classes = len(species_to_int)\n",
    "y_one_hot = one_hot_encode(y_int, num_classes)\n",
    "print(y_one_hot.shape, num_classes, X.shape)\n",
    "print(X)\n"
   ]
  },
  {
   "cell_type": "code",
   "execution_count": 9,
   "metadata": {},
   "outputs": [],
   "source": [
    "import torch\n",
    "# Convert to PyTorch tensors\n",
    "x_tensor = torch.tensor(X, dtype=torch.float32)\n",
    "y_tensor = torch.tensor(y_one_hot, dtype=torch.float32)"
   ]
  },
  {
   "cell_type": "code",
   "execution_count": 25,
   "metadata": {},
   "outputs": [
    {
     "name": "stdout",
     "output_type": "stream",
     "text": [
      "(1728, 6) (1728,) 6 [1, 1, 1, 1, 1] 32 4\n"
     ]
    }
   ],
   "source": [
    "num_cut = [1,1,1,1,1,1]  \n",
    "num_leaf = np.prod(np.array(num_cut) + 1)\n",
    "num_class = 4\n",
    "d = X.shape[1]\n",
    "print(X.shape, y.shape, d, num_cut, num_leaf, num_class)"
   ]
  },
  {
   "cell_type": "code",
   "execution_count": 27,
   "metadata": {},
   "outputs": [],
   "source": [
    "# Initialize variables\n",
    "cut_points_list = [torch.nn.Parameter(torch.rand(i)) for i in num_cut]\n",
    "leaf_score = torch.nn.Parameter(torch.rand(num_leaf, num_class))\n",
    "\n",
    "# Define loss and optimizer\n",
    "optimizer = torch.optim.Adam([*cut_points_list, leaf_score], lr=0.1)\n",
    "loss_fn = torch.nn.CrossEntropyLoss()\n",
    "loss_function = torch.nn.CrossEntropyLoss()"
   ]
  },
  {
   "cell_type": "code",
   "execution_count": 28,
   "metadata": {},
   "outputs": [
    {
     "name": "stdout",
     "output_type": "stream",
     "text": [
      "1.4477026462554932\n",
      "0.6314515471458435\n",
      "0.6301831007003784\n",
      "0.6259850859642029\n",
      "0.6257281303405762\n"
     ]
    }
   ],
   "source": [
    "from pytorch_neural import nn_decision_tree\n",
    "# Training loop\n",
    "for i in range(1000):\n",
    "    optimizer.zero_grad()\n",
    "    y_pred = nn_decision_tree(x_tensor, cut_points_list, leaf_score, temperature=0.1)\n",
    "    loss = loss_fn(y_pred, y_tensor)\n",
    "    loss.backward()\n",
    "    optimizer.step()\n",
    "\n",
    "    if i % 200 == 0:\n",
    "        print(loss.item())"
   ]
  },
  {
   "cell_type": "code",
   "execution_count": 23,
   "metadata": {},
   "outputs": [
    {
     "name": "stdout",
     "output_type": "stream",
     "text": [
      "error rate 0.23\n"
     ]
    }
   ],
   "source": [
    "# Evaluate\n",
    "with torch.no_grad():\n",
    "    y_pred_eval = nn_decision_tree(x_tensor, cut_points_list, leaf_score, temperature=0.1)\n",
    "    error_rate = 1 - (y_pred_eval.argmax(1) == y_tensor.argmax(1)).float().mean()\n",
    "    print('error rate %.2f' % error_rate)"
   ]
  },
  {
   "cell_type": "code",
   "execution_count": 22,
   "metadata": {},
   "outputs": [
    {
     "name": "stdout",
     "output_type": "stream",
     "text": [
      "0.7690972222222222\n"
     ]
    }
   ],
   "source": [
    "from sklearn.metrics import accuracy_score\n",
    "\n",
    "y_pred = nn_decision_tree(x_tensor, cut_points_list, leaf_score, temperature=0.1)\n",
    "accuracy_score(y_tensor.argmax(1), y_pred.argmax(1))\n",
    "print(accuracy_score(y_tensor.argmax(1), y_pred.argmax(1)))"
   ]
  },
  {
   "cell_type": "code",
   "execution_count": 16,
   "metadata": {},
   "outputs": [],
   "source": [
    "sample_x0 = np.repeat(np.linspace(0, np.max(X[:,0]), 100), 100).reshape(-1,1)\n",
    "sample_x1 = np.tile(np.linspace(0, np.max(X[:,1]), 100).reshape(-1,1), [100,1])\n",
    "sample_x = np.hstack([sample_x0, sample_x1])\n",
    "sample_x_tensor = torch.tensor(sample_x, dtype=torch.float32)"
   ]
  },
  {
   "cell_type": "code",
   "execution_count": 17,
   "metadata": {},
   "outputs": [
    {
     "ename": "RuntimeError",
     "evalue": "mat1 and mat2 shapes cannot be multiplied (10000x0 and 1x2)",
     "output_type": "error",
     "traceback": [
      "\u001b[1;31m---------------------------------------------------------------------------\u001b[0m",
      "\u001b[1;31mRuntimeError\u001b[0m                              Traceback (most recent call last)",
      "\u001b[1;32mc:\\Users\\Alexander\\Documents\\GitHub\\COMP-551\\DATASETS\\car_evaluation_DNDT.ipynb Cell 10\u001b[0m line \u001b[0;36m3\n\u001b[0;32m      <a href='vscode-notebook-cell:/c%3A/Users/Alexander/Documents/GitHub/COMP-551/DATASETS/car_evaluation_DNDT.ipynb#X22sZmlsZQ%3D%3D?line=0'>1</a>\u001b[0m \u001b[39mimport\u001b[39;00m \u001b[39mmatplotlib\u001b[39;00m\u001b[39m.\u001b[39;00m\u001b[39mpyplot\u001b[39;00m \u001b[39mas\u001b[39;00m \u001b[39mplt\u001b[39;00m\n\u001b[0;32m      <a href='vscode-notebook-cell:/c%3A/Users/Alexander/Documents/GitHub/COMP-551/DATASETS/car_evaluation_DNDT.ipynb#X22sZmlsZQ%3D%3D?line=1'>2</a>\u001b[0m \u001b[39mwith\u001b[39;00m torch\u001b[39m.\u001b[39mno_grad():\n\u001b[1;32m----> <a href='vscode-notebook-cell:/c%3A/Users/Alexander/Documents/GitHub/COMP-551/DATASETS/car_evaluation_DNDT.ipynb#X22sZmlsZQ%3D%3D?line=2'>3</a>\u001b[0m     sample_label \u001b[39m=\u001b[39m nn_decision_tree(sample_x_tensor, cut_points_list, leaf_score, temperature\u001b[39m=\u001b[39;49m\u001b[39m0.1\u001b[39;49m)\u001b[39m.\u001b[39margmax(\u001b[39m1\u001b[39m)\n\u001b[0;32m      <a href='vscode-notebook-cell:/c%3A/Users/Alexander/Documents/GitHub/COMP-551/DATASETS/car_evaluation_DNDT.ipynb#X22sZmlsZQ%3D%3D?line=4'>5</a>\u001b[0m plt\u001b[39m.\u001b[39mfigure(figsize\u001b[39m=\u001b[39m(\u001b[39m8\u001b[39m,\u001b[39m8\u001b[39m))\n\u001b[0;32m      <a href='vscode-notebook-cell:/c%3A/Users/Alexander/Documents/GitHub/COMP-551/DATASETS/car_evaluation_DNDT.ipynb#X22sZmlsZQ%3D%3D?line=5'>6</a>\u001b[0m plt\u001b[39m.\u001b[39mscatter(X[:,\u001b[39m0\u001b[39m], X[:,\u001b[39m1\u001b[39m], c\u001b[39m=\u001b[39mnp\u001b[39m.\u001b[39margmax(y_one_hot, axis\u001b[39m=\u001b[39m\u001b[39m1\u001b[39m), marker\u001b[39m=\u001b[39m\u001b[39m'\u001b[39m\u001b[39mo\u001b[39m\u001b[39m'\u001b[39m, s\u001b[39m=\u001b[39m\u001b[39m50\u001b[39m, cmap\u001b[39m=\u001b[39m\u001b[39m'\u001b[39m\u001b[39msummer\u001b[39m\u001b[39m'\u001b[39m, edgecolors\u001b[39m=\u001b[39m\u001b[39m'\u001b[39m\u001b[39mblack\u001b[39m\u001b[39m'\u001b[39m)\n",
      "File \u001b[1;32mc:\\Users\\Alexander\\Documents\\GitHub\\COMP-551\\DATASETS\\pytorch_neural.py:19\u001b[0m, in \u001b[0;36mnn_decision_tree\u001b[1;34m(x, cut_points_list, leaf_score, temperature)\u001b[0m\n\u001b[0;32m     18\u001b[0m \u001b[39mdef\u001b[39;00m \u001b[39mnn_decision_tree\u001b[39m(x, cut_points_list, leaf_score, temperature\u001b[39m=\u001b[39m\u001b[39m0.1\u001b[39m):\n\u001b[1;32m---> 19\u001b[0m     leaf \u001b[39m=\u001b[39m reduce(torch_kron_prod, \n\u001b[0;32m     20\u001b[0m                   \u001b[39mmap\u001b[39;49m(\u001b[39mlambda\u001b[39;49;00m z: torch_bin(x[:, z[\u001b[39m0\u001b[39;49m]:z[\u001b[39m0\u001b[39;49m] \u001b[39m+\u001b[39;49m \u001b[39m1\u001b[39;49m], z[\u001b[39m1\u001b[39;49m], temperature), \u001b[39menumerate\u001b[39;49m(cut_points_list)))\n\u001b[0;32m     21\u001b[0m     \u001b[39mreturn\u001b[39;00m torch\u001b[39m.\u001b[39mmatmul(leaf, leaf_score)\n",
      "File \u001b[1;32mc:\\Users\\Alexander\\Documents\\GitHub\\COMP-551\\DATASETS\\pytorch_neural.py:20\u001b[0m, in \u001b[0;36mnn_decision_tree.<locals>.<lambda>\u001b[1;34m(z)\u001b[0m\n\u001b[0;32m     18\u001b[0m \u001b[39mdef\u001b[39;00m \u001b[39mnn_decision_tree\u001b[39m(x, cut_points_list, leaf_score, temperature\u001b[39m=\u001b[39m\u001b[39m0.1\u001b[39m):\n\u001b[0;32m     19\u001b[0m     leaf \u001b[39m=\u001b[39m reduce(torch_kron_prod, \n\u001b[1;32m---> 20\u001b[0m                   \u001b[39mmap\u001b[39m(\u001b[39mlambda\u001b[39;00m z: torch_bin(x[:, z[\u001b[39m0\u001b[39;49m]:z[\u001b[39m0\u001b[39;49m] \u001b[39m+\u001b[39;49m \u001b[39m1\u001b[39;49m], z[\u001b[39m1\u001b[39;49m], temperature), \u001b[39menumerate\u001b[39m(cut_points_list)))\n\u001b[0;32m     21\u001b[0m     \u001b[39mreturn\u001b[39;00m torch\u001b[39m.\u001b[39mmatmul(leaf, leaf_score)\n",
      "File \u001b[1;32mc:\\Users\\Alexander\\Documents\\GitHub\\COMP-551\\DATASETS\\pytorch_neural.py:14\u001b[0m, in \u001b[0;36mtorch_bin\u001b[1;34m(x, cut_points, temperature)\u001b[0m\n\u001b[0;32m     12\u001b[0m cut_points \u001b[39m=\u001b[39m cut_points\u001b[39m.\u001b[39msort()[\u001b[39m0\u001b[39m]  \u001b[39m# make sure cut_points is monotonically increasing\u001b[39;00m\n\u001b[0;32m     13\u001b[0m b \u001b[39m=\u001b[39m torch\u001b[39m.\u001b[39mcumsum(torch\u001b[39m.\u001b[39mcat([torch\u001b[39m.\u001b[39mtensor([\u001b[39m0.0\u001b[39m]), \u001b[39m-\u001b[39mcut_points]), \u001b[39m0\u001b[39m)\n\u001b[1;32m---> 14\u001b[0m h \u001b[39m=\u001b[39m torch\u001b[39m.\u001b[39;49mmatmul(x, W) \u001b[39m+\u001b[39m b\n\u001b[0;32m     15\u001b[0m res \u001b[39m=\u001b[39m torch\u001b[39m.\u001b[39msoftmax(h \u001b[39m/\u001b[39m temperature, dim\u001b[39m=\u001b[39m\u001b[39m1\u001b[39m)\n\u001b[0;32m     16\u001b[0m \u001b[39mreturn\u001b[39;00m res\n",
      "\u001b[1;31mRuntimeError\u001b[0m: mat1 and mat2 shapes cannot be multiplied (10000x0 and 1x2)"
     ]
    }
   ],
   "source": [
    "import matplotlib.pyplot as plt\n",
    "with torch.no_grad():\n",
    "    sample_label = nn_decision_tree(sample_x_tensor, cut_points_list, leaf_score, temperature=0.1).argmax(1)\n",
    "\n",
    "plt.figure(figsize=(8,8))\n",
    "plt.scatter(X[:,0], X[:,1], c=np.argmax(y_one_hot, axis=1), marker='o', s=50, cmap='summer', edgecolors='black')\n",
    "plt.scatter(sample_x0.flatten(), sample_x1.flatten(), c=sample_label.numpy().flatten(), marker='D', s=20, cmap='summer', edgecolors='none', alpha=0.33)\n",
    "plt.show()"
   ]
  }
 ],
 "metadata": {
  "kernelspec": {
   "display_name": "Python 3",
   "language": "python",
   "name": "python3"
  },
  "language_info": {
   "codemirror_mode": {
    "name": "ipython",
    "version": 3
   },
   "file_extension": ".py",
   "mimetype": "text/x-python",
   "name": "python",
   "nbconvert_exporter": "python",
   "pygments_lexer": "ipython3",
   "version": "3.11.3"
  }
 },
 "nbformat": 4,
 "nbformat_minor": 2
}
