{
 "cells": [
  {
   "cell_type": "code",
   "execution_count": 1,
   "metadata": {},
   "outputs": [],
   "source": [
    "datasets = ['breast-cancer-wisconsin-data.csv', 'car_evaluation.csv', 'diabetes.csv', 'iris.csv', 'titanic.csv']\n",
    "output_name = ['diagnosis','eval','Outcome','Species','Survived']\n",
    "#num_classes = [2,4,2,3,2]\n",
    "num_features = [30,6,8,4,9]\n",
    "useless_features = [['id'],[],[],['Id'],['PassengerId','Name']]\n",
    "num_cuts = [12,num_features[1],num_features[2],num_features[3],num_features[4]]\n"
   ]
  },
  {
   "cell_type": "code",
   "execution_count": 2,
   "metadata": {},
   "outputs": [],
   "source": [
    "from pytorch_DNDT import *\n",
    "from pytorch_DT import *\n",
    "seed = 1943 #like in the paper's code"
   ]
  },
  {
   "cell_type": "code",
   "execution_count": 6,
   "metadata": {},
   "outputs": [
    {
     "name": "stdout",
     "output_type": "stream",
     "text": [
      "0.7861271676300579\n"
     ]
    }
   ],
   "source": [
    "i = 1\n",
    "print(build_test_DNDT(datasets[i], output_name[i], num_features[i], num_cuts[i], seed, useless_features[i], False, True))"
   ]
  },
  {
   "cell_type": "code",
   "execution_count": 3,
   "metadata": {},
   "outputs": [],
   "source": [
    "#TODO: add NN conections\n",
    "#TODO: try test split with DNDT"
   ]
  },
  {
   "cell_type": "code",
   "execution_count": 4,
   "metadata": {},
   "outputs": [
    {
     "name": "stdout",
     "output_type": "stream",
     "text": [
      "breast-cancer-wisconsin-data.csv DNDT: 0.9507908611599297 DT: 0.9122807017543859\n",
      "car_evaluation.csv DNDT: 0.7876157407407407 DT: 0.9797687861271677\n",
      "diabetes.csv DNDT: 0.8658854166666666 DT: 0.7012987012987013\n",
      "iris.csv DNDT: 0.96 DT: 0.9666666666666667\n",
      "titanic.csv DNDT: 0.6363636363636364 DT: 1.0\n"
     ]
    }
   ],
   "source": [
    "for i in range(len(datasets)):\n",
    "    dndt_val = build_test_DNDT(datasets[i], output_name[i], num_features[i], num_cuts[i], seed, useless_features[i])\n",
    "    dt_val = build_test_DT(datasets[i], output_name[i], seed, useless_features[i])\n",
    "    print(datasets[i] + ' DNDT: ' + str(dndt_val) + ' DT: ' + str(dt_val))"
   ]
  },
  {
   "cell_type": "code",
   "execution_count": null,
   "metadata": {},
   "outputs": [],
   "source": [
    "#TODO: add cut point change for DNDT"
   ]
  }
 ],
 "metadata": {
  "kernelspec": {
   "display_name": "Python 3",
   "language": "python",
   "name": "python3"
  },
  "language_info": {
   "codemirror_mode": {
    "name": "ipython",
    "version": 3
   },
   "file_extension": ".py",
   "mimetype": "text/x-python",
   "name": "python",
   "nbconvert_exporter": "python",
   "pygments_lexer": "ipython3",
   "version": "3.11.3"
  }
 },
 "nbformat": 4,
 "nbformat_minor": 2
}
