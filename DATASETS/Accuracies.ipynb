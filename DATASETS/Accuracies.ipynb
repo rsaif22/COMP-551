{
 "cells": [
  {
   "cell_type": "code",
   "execution_count": null,
   "metadata": {},
   "outputs": [],
   "source": [
    "datasets = ['breast-cancer-wisconsin-data.csv', 'car_evaluation.csv', 'diabetes.csv', 'iris.csv', 'titanic.csv']\n",
    "output_name = []\n",
    "num_classes = []\n",
    "num_features = []\n",
    "useless_features = []\n"
   ]
  },
  {
   "cell_type": "code",
   "execution_count": null,
   "metadata": {},
   "outputs": [],
   "source": [
    "from pytorch_DNDT import *\n",
    "from pytorch_DT import *"
   ]
  },
  {
   "cell_type": "code",
   "execution_count": null,
   "metadata": {},
   "outputs": [],
   "source": [
    "#TODO: add NN conections"
   ]
  },
  {
   "cell_type": "code",
   "execution_count": null,
   "metadata": {},
   "outputs": [],
   "source": [
    "for i in range(len(datasets)):\n",
    "    dndt_val = build_test_DNDT(datasets[i], output_name[i], num_classes[i], useless_features[i])\n",
    "    dt_val = build_test_DT(datasets[i], output_name[i], num_classes[i], useless_features[i])\n",
    "    print(datasets[i] + ' DNDT: ' + str(dndt_val) + ' DT: ' + str(dt_val))"
   ]
  },
  {
   "cell_type": "code",
   "execution_count": null,
   "metadata": {},
   "outputs": [],
   "source": [
    "#add cut point change for DNDT"
   ]
  }
 ],
 "metadata": {
  "language_info": {
   "name": "python"
  }
 },
 "nbformat": 4,
 "nbformat_minor": 2
}
