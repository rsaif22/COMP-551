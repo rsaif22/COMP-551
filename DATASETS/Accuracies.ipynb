{
 "cells": [
  {
   "cell_type": "code",
   "execution_count": 10,
   "metadata": {},
   "outputs": [],
   "source": [
    "datasets = ['breast-cancer-wisconsin-data.csv', 'car_evaluation.csv', 'diabetes.csv', 'iris.csv', 'titanic.csv']\n",
    "output_name = ['diagnosis','eval','Outcome','Species','Survived']\n",
    "num_classes = [2,4,2,3,2]\n",
    "num_features = [9,6,8,4,9]\n",
    "useless_features = [['id'],[],[],['Id'],['PassengerId','Name']]\n"
   ]
  },
  {
   "cell_type": "code",
   "execution_count": 8,
   "metadata": {},
   "outputs": [],
   "source": [
    "datasets = ['breast-cancer-wisconsin-data.csv', 'car_evaluation.csv', 'diabetes.csv', 'iris.csv', 'titanic.csv']\n",
    "output_name = ['diagnosis','eval','Outcome','Species','Survived']\n",
    "num_classes = [2,4,2,3,2]\n",
    "num_features = [30,6,8,4,11]\n",
    "useless_features = [[\"id\"],[],[],['Id'],[]]\n",
    "num_cuts = [12,num_features[1],num_features[2],num_features[3],num_features[4]]\n"
   ]
  },
  {
   "cell_type": "code",
   "execution_count": 5,
   "metadata": {},
   "outputs": [],
   "source": [
    "from pytorch_DNDT import *\n",
    "from pytorch_DT import *\n",
    "seed = 1943 #like in the paper's code"
   ]
  },
  {
   "cell_type": "code",
   "execution_count": 3,
   "metadata": {},
   "outputs": [],
   "source": [
    "#TODO: add NN conections"
   ]
  },
  {
   "cell_type": "code",
   "execution_count": 9,
   "metadata": {},
   "outputs": [
    {
     "name": "stdout",
     "output_type": "stream",
     "text": [
      "breast-cancer-wisconsin-data.csv DNDT: 0.6274165202108963 DT: 0.9210526315789473\n",
      "car_evaluation.csv DNDT: 0.7743055555555556 DT: 0.9682080924855492\n",
      "diabetes.csv DNDT: 0.6861979166666666 DT: 0.6623376623376623\n",
      "iris.csv DNDT: 0.96 DT: 1.0\n",
      "titanic.csv DNDT: 0.6363636363636364 DT: 1.0\n"
     ]
    }
   ],
   "source": [
    "for i in range(len(datasets)):\n",
    "    dndt_val = build_test_DNDT(datasets[i], output_name[i], num_classes[i], num_features[i], num_cuts[i], seed, useless_features[i])\n",
    "    dt_val = build_test_DT(datasets[i], output_name[i], num_classes[i], useless_features[i])\n",
    "    print(datasets[i] + ' DNDT: ' + str(dndt_val) + ' DT: ' + str(dt_val))"
   ]
  },
  {
   "cell_type": "code",
   "execution_count": null,
   "metadata": {},
   "outputs": [],
   "source": [
    "#TODO: add cut point change for DNDT"
   ]
  }
 ],
 "metadata": {
  "kernelspec": {
   "display_name": "Python 3",
   "language": "python",
   "name": "python3"
  },
  "language_info": {
   "codemirror_mode": {
    "name": "ipython",
    "version": 3
   },
   "file_extension": ".py",
   "mimetype": "text/x-python",
   "name": "python",
   "nbconvert_exporter": "python",
   "pygments_lexer": "ipython3",
   "version": "3.11.3"
  }
 },
 "nbformat": 4,
 "nbformat_minor": 2
}
