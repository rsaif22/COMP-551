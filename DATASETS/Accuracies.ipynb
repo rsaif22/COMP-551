{
 "cells": [
  {
   "cell_type": "code",
   "execution_count": 2,
   "metadata": {},
   "outputs": [],
   "source": [
    "datasets = ['breast-cancer-wisconsin-data.csv', 'car_evaluation.csv', 'diabetes.csv', 'iris.csv', 'titanic.csv', 'haberman.csv']\n",
    "output_name = ['diagnosis','eval','Outcome','Species','Survived','Survival']\n",
    "num_classes = [2,4,2,3,2,2]\n",
    "num_features = [30,6,8,4,9,3]\n",
    "useless_features = [['id'],[],[],['Id'],['PassengerId','Name'],[]]\n",
    "num_cuts = [12,num_features[1],num_features[2],num_features[3],num_features[4],num_features[5]]\n"
   ]
  },
  {
   "cell_type": "code",
   "execution_count": 3,
   "metadata": {},
   "outputs": [],
   "source": [
    "from pytorch_DNDT import *\n",
    "from pytorch_DT import *\n",
    "from pytorch_nn import *\n",
    "seed = 1943 #like in the paper's code"
   ]
  },
  {
   "cell_type": "code",
   "execution_count": 5,
   "metadata": {},
   "outputs": [
    {
     "name": "stdout",
     "output_type": "stream",
     "text": [
      "DNDT norm:  0.7876157407407407\n",
      "DNDT norm:  0.9785879629629629\n",
      "DNDT norm:  1.0\n"
     ]
    }
   ],
   "source": [
    "i = 1\n",
    "dndt_val_norm = build_test_DNDT(datasets[i], output_name[i], num_features[i], num_cuts[i], seed, useless_features[i], True, False, 1)\n",
    "print(\"DNDT norm: \", dndt_val_norm)\n",
    "dndt_val_norm = build_test_DNDT(datasets[i], output_name[i], num_features[i], num_cuts[i], seed, useless_features[i], True, False, 2)\n",
    "print(\"DNDT norm: \", dndt_val_norm)\n",
    "dndt_val_norm = build_test_DNDT(datasets[i], output_name[i], num_features[i], num_cuts[i], seed, useless_features[i], True, False, 3)\n",
    "print(\"DNDT norm: \", dndt_val_norm)"
   ]
  },
  {
   "cell_type": "code",
   "execution_count": 4,
   "metadata": {},
   "outputs": [
    {
     "name": "stderr",
     "output_type": "stream",
     "text": [
      "c:\\Users\\rsaif\\OneDrive - McGill University\\COMP-551\\COMP-551\\.venv\\lib\\site-packages\\sklearn\\preprocessing\\_label.py:114: DataConversionWarning: A column-vector y was passed when a 1d array was expected. Please change the shape of y to (n_samples, ), for example using ravel().\n",
      "  y = column_or_1d(y, warn=True)\n"
     ]
    },
    {
     "name": "stdout",
     "output_type": "stream",
     "text": [
      "breast-cancer-wisconsin-data.csv DNDT Unormalized: 0.933 DNDT Normalized: 0.958 DNDT Unormalized Split: 0.947 DNDT Normalized Split: 0.939 DT: 0.912 NN: 0.982\n"
     ]
    },
    {
     "name": "stderr",
     "output_type": "stream",
     "text": [
      "c:\\Users\\rsaif\\OneDrive - McGill University\\COMP-551\\COMP-551\\.venv\\lib\\site-packages\\sklearn\\preprocessing\\_label.py:114: DataConversionWarning: A column-vector y was passed when a 1d array was expected. Please change the shape of y to (n_samples, ), for example using ravel().\n",
      "  y = column_or_1d(y, warn=True)\n"
     ]
    },
    {
     "name": "stdout",
     "output_type": "stream",
     "text": [
      "car_evaluation.csv DNDT Unormalized: 0.774 DNDT Normalized: 0.788 DNDT Unormalized Split: 0.76 DNDT Normalized Split: 0.783 DT: 0.98 NN: 0.688\n"
     ]
    },
    {
     "name": "stderr",
     "output_type": "stream",
     "text": [
      "c:\\Users\\rsaif\\OneDrive - McGill University\\COMP-551\\COMP-551\\.venv\\lib\\site-packages\\sklearn\\preprocessing\\_label.py:114: DataConversionWarning: A column-vector y was passed when a 1d array was expected. Please change the shape of y to (n_samples, ), for example using ravel().\n",
      "  y = column_or_1d(y, warn=True)\n"
     ]
    },
    {
     "name": "stdout",
     "output_type": "stream",
     "text": [
      "diabetes.csv DNDT Unormalized: 0.686 DNDT Normalized: 0.87 DNDT Unormalized Split: 0.636 DNDT Normalized Split: 0.747 DT: 0.701 NN: 0.753\n"
     ]
    },
    {
     "name": "stderr",
     "output_type": "stream",
     "text": [
      "c:\\Users\\rsaif\\OneDrive - McGill University\\COMP-551\\COMP-551\\.venv\\lib\\site-packages\\sklearn\\preprocessing\\_label.py:114: DataConversionWarning: A column-vector y was passed when a 1d array was expected. Please change the shape of y to (n_samples, ), for example using ravel().\n",
      "  y = column_or_1d(y, warn=True)\n"
     ]
    },
    {
     "name": "stdout",
     "output_type": "stream",
     "text": [
      "iris.csv DNDT Unormalized: 0.96 DNDT Normalized: 0.96 DNDT Unormalized Split: 1.0 DNDT Normalized Split: 0.967 DT: 0.967 NN: 0.8\n"
     ]
    },
    {
     "name": "stderr",
     "output_type": "stream",
     "text": [
      "c:\\Users\\rsaif\\OneDrive - McGill University\\COMP-551\\COMP-551\\.venv\\lib\\site-packages\\sklearn\\preprocessing\\_label.py:114: DataConversionWarning: A column-vector y was passed when a 1d array was expected. Please change the shape of y to (n_samples, ), for example using ravel().\n",
      "  y = column_or_1d(y, warn=True)\n"
     ]
    },
    {
     "name": "stdout",
     "output_type": "stream",
     "text": [
      "titanic.csv DNDT Unormalized: 0.636 DNDT Normalized: 0.636 DNDT Unormalized Split: 0.619 DNDT Normalized Split: 0.619 DT: 1.0 NN: 0.619\n",
      "haberman.csv DNDT Unormalized: 0.735 DNDT Normalized: 0.755 DNDT Unormalized Split: 0.726 DNDT Normalized Split: 0.742 DT: 0.742 NN: 0.726\n"
     ]
    },
    {
     "name": "stderr",
     "output_type": "stream",
     "text": [
      "c:\\Users\\rsaif\\OneDrive - McGill University\\COMP-551\\COMP-551\\.venv\\lib\\site-packages\\sklearn\\preprocessing\\_label.py:114: DataConversionWarning: A column-vector y was passed when a 1d array was expected. Please change the shape of y to (n_samples, ), for example using ravel().\n",
      "  y = column_or_1d(y, warn=True)\n"
     ]
    }
   ],
   "source": [
    "#def build_test_DNDT(datafile, output_column_name, num_features, num_cuts, seed=None, exclude_features=[], normalized=False, test_train_split=False):\n",
    "\n",
    "\n",
    "for i in range(len(datasets)):\n",
    "    dndt_val_unorm = build_test_DNDT(datasets[i], output_name[i], num_features[i], num_cuts[i], seed, useless_features[i], False, False)\n",
    "    dndt_val_norm = build_test_DNDT(datasets[i], output_name[i], num_features[i], num_cuts[i], seed, useless_features[i], True, False)\n",
    "    dndt_val_unorm_split = build_test_DNDT(datasets[i], output_name[i], num_features[i], num_cuts[i], seed, useless_features[i], False, True)\n",
    "    dndt_val_norm_split = build_test_DNDT(datasets[i], output_name[i], num_features[i], num_cuts[i], seed, useless_features[i], True, True)\n",
    "    nn_val = build_test_NN(datasets[i], output_name[i], num_classes[i], num_features[i], seed, useless_features[i])\n",
    "    dt_val = build_test_DT(datasets[i], output_name[i], seed, useless_features[i])\n",
    "    print(datasets[i] + ' DNDT Unormalized: ' + str(round(dndt_val_unorm, 3)) + ' DNDT Normalized: ' + str(round(dndt_val_norm, 3)) + ' DNDT Unormalized Split: ' + str(round(dndt_val_unorm_split, 3)) + ' DNDT Normalized Split: ' + str(round(dndt_val_norm_split, 3)) +   ' DT: ' + str(round(dt_val, 3)) + ' NN: ' + str(round(nn_val,3)))"
   ]
  },
  {
   "cell_type": "code",
   "execution_count": null,
   "metadata": {},
   "outputs": [],
   "source": [
    "#TODO: add cut point change for DNDT"
   ]
  }
 ],
 "metadata": {
  "kernelspec": {
   "display_name": "Python 3",
   "language": "python",
   "name": "python3"
  },
  "language_info": {
   "codemirror_mode": {
    "name": "ipython",
    "version": 3
   },
   "file_extension": ".py",
   "mimetype": "text/x-python",
   "name": "python",
   "nbconvert_exporter": "python",
   "pygments_lexer": "ipython3",
   "version": "3.10.4"
  }
 },
 "nbformat": 4,
 "nbformat_minor": 2
}
