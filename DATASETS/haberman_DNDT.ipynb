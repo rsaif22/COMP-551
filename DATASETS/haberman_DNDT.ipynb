{
 "cells": [
  {
   "cell_type": "code",
   "execution_count": null,
   "metadata": {},
   "outputs": [],
   "source": [
    "#Age of patient at time of operation (numerical)\n",
    "#Patient's year of operation (year - 1900, numerical)\n",
    "#Number of positive axillary nodes detected (numerical)\n",
    "#Survival status (class attribute)\n",
    "#1 = the patient survived 5 years or longer\n",
    "#2 = the patient died within 5 year\n"
   ]
  },
  {
   "cell_type": "code",
   "execution_count": 3,
   "metadata": {},
   "outputs": [],
   "source": [
    "import pandas as pd\n",
    "import numpy as np\n",
    "\n",
    "# Assuming 'data.csv' is your CSV file\n",
    "df = pd.read_csv('haberman.csv')\n",
    "\n",
    "# Separate the features and the target variable\n",
    "\n",
    "X = df[['Age', 'YearOfOPP', 'Nodes']].to_numpy()\n",
    "y = df['Survival']\n",
    "\n",
    "# Convert the species labels to integers\n",
    "species_to_int = {species: idx for idx, species in enumerate(np.unique(y))}\n",
    "y_int = np.array([species_to_int[species] for species in y])\n",
    "\n",
    "# Optionally, convert the integer labels to one-hot encoding\n",
    "def one_hot_encode(labels, num_classes):\n",
    "    return np.eye(num_classes)[labels]\n",
    "\n",
    "num_classes = len(species_to_int)\n",
    "y_one_hot = one_hot_encode(y_int, num_classes)\n"
   ]
  },
  {
   "cell_type": "code",
   "execution_count": 4,
   "metadata": {},
   "outputs": [],
   "source": [
    "import torch\n",
    "# Convert to PyTorch tensors\n",
    "x_tensor = torch.tensor(X, dtype=torch.float32)\n",
    "y_tensor = torch.tensor(y_one_hot, dtype=torch.float32)"
   ]
  },
  {
   "cell_type": "code",
   "execution_count": 25,
   "metadata": {},
   "outputs": [
    {
     "name": "stdout",
     "output_type": "stream",
     "text": [
      "(306, 3) (306,) 3 [1, 1] 4 2\n"
     ]
    }
   ],
   "source": [
    "num_cut = [1,1]  # \"Petal length\" and \"Petal width\"\n",
    "num_leaf = np.prod(np.array(num_cut) + 1)\n",
    "num_class = 2\n",
    "d = X.shape[1]\n",
    "print(X.shape, y.shape, d, num_cut, num_leaf, num_class)"
   ]
  },
  {
   "cell_type": "code",
   "execution_count": 26,
   "metadata": {},
   "outputs": [],
   "source": [
    "# Initialize variables\n",
    "cut_points_list = [torch.nn.Parameter(torch.rand(i)) for i in num_cut]\n",
    "leaf_score = torch.nn.Parameter(torch.rand(num_leaf, num_class))\n",
    "\n",
    "# Define loss and optimizer\n",
    "optimizer = torch.optim.Adam([*cut_points_list, leaf_score], lr=0.1)\n",
    "loss_fn = torch.nn.CrossEntropyLoss()\n",
    "loss_function = torch.nn.CrossEntropyLoss()"
   ]
  },
  {
   "cell_type": "code",
   "execution_count": 27,
   "metadata": {},
   "outputs": [
    {
     "name": "stdout",
     "output_type": "stream",
     "text": [
      "0.7877303957939148\n",
      "0.5779217481613159\n",
      "0.5779219269752502\n",
      "0.5779219269752502\n",
      "0.5779219269752502\n"
     ]
    }
   ],
   "source": [
    "from pytorch_neural import nn_decision_tree\n",
    "# Training loop\n",
    "for i in range(1000):\n",
    "    optimizer.zero_grad()\n",
    "    y_pred = nn_decision_tree(x_tensor, cut_points_list, leaf_score, temperature=0.1)\n",
    "    loss = loss_fn(y_pred, y_tensor)\n",
    "    loss.backward()\n",
    "    optimizer.step()\n",
    "\n",
    "    if i % 200 == 0:\n",
    "        print(loss.item())"
   ]
  },
  {
   "cell_type": "code",
   "execution_count": 28,
   "metadata": {},
   "outputs": [
    {
     "name": "stdout",
     "output_type": "stream",
     "text": [
      "error rate 0.26\n"
     ]
    }
   ],
   "source": [
    "# Evaluate\n",
    "with torch.no_grad():\n",
    "    y_pred_eval = nn_decision_tree(x_tensor, cut_points_list, leaf_score, temperature=0.1)\n",
    "    error_rate = 1 - (y_pred_eval.argmax(1) == y_tensor.argmax(1)).float().mean()\n",
    "    print('error rate %.2f' % error_rate)"
   ]
  },
  {
   "cell_type": "code",
   "execution_count": 30,
   "metadata": {},
   "outputs": [
    {
     "name": "stdout",
     "output_type": "stream",
     "text": [
      "0.7352941176470589\n"
     ]
    }
   ],
   "source": [
    "from sklearn.metrics import accuracy_score\n",
    "\n",
    "y_pred = nn_decision_tree(x_tensor, cut_points_list, leaf_score, temperature=0.1)\n",
    "accuracy_score(y_tensor.argmax(1), y_pred.argmax(1))\n",
    "print(accuracy_score(y_tensor.argmax(1), y_pred.argmax(1)))"
   ]
  }
 ],
 "metadata": {
  "kernelspec": {
   "display_name": "Python 3",
   "language": "python",
   "name": "python3"
  },
  "language_info": {
   "codemirror_mode": {
    "name": "ipython",
    "version": 3
   },
   "file_extension": ".py",
   "mimetype": "text/x-python",
   "name": "python",
   "nbconvert_exporter": "python",
   "pygments_lexer": "ipython3",
   "version": "3.11.3"
  }
 },
 "nbformat": 4,
 "nbformat_minor": 2
}
